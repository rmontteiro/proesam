{
  "nbformat": 4,
  "nbformat_minor": 0,
  "metadata": {
    "colab": {
      "name": "clustering_vulnerabilidade_ambiental.ipynb",
      "provenance": [],
      "collapsed_sections": [],
      "authorship_tag": "ABX9TyOzQxaSafkI2tnJ1WqQRcyy",
      "include_colab_link": true
    },
    "kernelspec": {
      "name": "python3",
      "display_name": "Python 3"
    },
    "language_info": {
      "name": "python"
    }
  },
  "cells": [
    {
      "cell_type": "markdown",
      "metadata": {
        "id": "view-in-github",
        "colab_type": "text"
      },
      "source": [
        "<a href=\"https://colab.research.google.com/github/rmontteiro/proesam/blob/main/clustering_vulnerabilidade_ambiental.ipynb\" target=\"_parent\"><img src=\"https://colab.research.google.com/assets/colab-badge.svg\" alt=\"Open In Colab\"/></a>"
      ]
    },
    {
      "cell_type": "code",
      "metadata": {
        "id": "bVg-uyUmQZKr"
      },
      "source": [
        "import numpy as np\n",
        "import pandas as pd"
      ],
      "execution_count": 2,
      "outputs": []
    },
    {
      "cell_type": "code",
      "metadata": {
        "id": "SIhTmoIV23eR"
      },
      "source": [
        "#lendo o csv uso do solo\n",
        "df_matriz = pd.read_excel('/content/matriz_processamento_final.xlsx')"
      ],
      "execution_count": 3,
      "outputs": []
    },
    {
      "cell_type": "code",
      "metadata": {
        "colab": {
          "base_uri": "https://localhost:8080/",
          "height": 359
        },
        "id": "aeNZzYXu7wvh",
        "outputId": "0681168d-b200-4b2b-a0fc-b4b7b3057d3d"
      },
      "source": [
        "df_matriz.head(10)"
      ],
      "execution_count": 4,
      "outputs": [
        {
          "output_type": "execute_result",
          "data": {
            "text/html": [
              "<div>\n",
              "<style scoped>\n",
              "    .dataframe tbody tr th:only-of-type {\n",
              "        vertical-align: middle;\n",
              "    }\n",
              "\n",
              "    .dataframe tbody tr th {\n",
              "        vertical-align: top;\n",
              "    }\n",
              "\n",
              "    .dataframe thead th {\n",
              "        text-align: right;\n",
              "    }\n",
              "</style>\n",
              "<table border=\"1\" class=\"dataframe\">\n",
              "  <thead>\n",
              "    <tr style=\"text-align: right;\">\n",
              "      <th></th>\n",
              "      <th>Municipio</th>\n",
              "      <th>Numero de Dias</th>\n",
              "      <th>Percentual de  Cobertura Florestal</th>\n",
              "    </tr>\n",
              "  </thead>\n",
              "  <tbody>\n",
              "    <tr>\n",
              "      <th>0</th>\n",
              "      <td>Afonso Claudio</td>\n",
              "      <td>450</td>\n",
              "      <td>0.169908</td>\n",
              "    </tr>\n",
              "    <tr>\n",
              "      <th>1</th>\n",
              "      <td>Agua Doce do Norte</td>\n",
              "      <td>720</td>\n",
              "      <td>0.091074</td>\n",
              "    </tr>\n",
              "    <tr>\n",
              "      <th>2</th>\n",
              "      <td>Aguia Branca</td>\n",
              "      <td>900</td>\n",
              "      <td>0.123253</td>\n",
              "    </tr>\n",
              "    <tr>\n",
              "      <th>3</th>\n",
              "      <td>Alegre</td>\n",
              "      <td>1440</td>\n",
              "      <td>0.112549</td>\n",
              "    </tr>\n",
              "    <tr>\n",
              "      <th>4</th>\n",
              "      <td>Alfredo Chaves</td>\n",
              "      <td>1080</td>\n",
              "      <td>0.388007</td>\n",
              "    </tr>\n",
              "    <tr>\n",
              "      <th>5</th>\n",
              "      <td>Alto Rio Novo</td>\n",
              "      <td>540</td>\n",
              "      <td>0.065580</td>\n",
              "    </tr>\n",
              "    <tr>\n",
              "      <th>6</th>\n",
              "      <td>Anchieta</td>\n",
              "      <td>180</td>\n",
              "      <td>0.153594</td>\n",
              "    </tr>\n",
              "    <tr>\n",
              "      <th>7</th>\n",
              "      <td>Apiaca</td>\n",
              "      <td>450</td>\n",
              "      <td>0.085662</td>\n",
              "    </tr>\n",
              "    <tr>\n",
              "      <th>8</th>\n",
              "      <td>Aracruz</td>\n",
              "      <td>540</td>\n",
              "      <td>0.169704</td>\n",
              "    </tr>\n",
              "    <tr>\n",
              "      <th>9</th>\n",
              "      <td>Atilio Vivacqua</td>\n",
              "      <td>270</td>\n",
              "      <td>0.156855</td>\n",
              "    </tr>\n",
              "  </tbody>\n",
              "</table>\n",
              "</div>"
            ],
            "text/plain": [
              "            Municipio  Numero de Dias  Percentual de  Cobertura Florestal\n",
              "0      Afonso Claudio             450                            0.169908\n",
              "1  Agua Doce do Norte             720                            0.091074\n",
              "2        Aguia Branca             900                            0.123253\n",
              "3              Alegre            1440                            0.112549\n",
              "4      Alfredo Chaves            1080                            0.388007\n",
              "5       Alto Rio Novo             540                            0.065580\n",
              "6            Anchieta             180                            0.153594\n",
              "7              Apiaca             450                            0.085662\n",
              "8             Aracruz             540                            0.169704\n",
              "9     Atilio Vivacqua             270                            0.156855"
            ]
          },
          "metadata": {},
          "execution_count": 4
        }
      ]
    },
    {
      "cell_type": "code",
      "metadata": {
        "id": "rXoGLW0V7b1z"
      },
      "source": [
        "municipios= df_matriz['Municipio'].values"
      ],
      "execution_count": 74,
      "outputs": []
    },
    {
      "cell_type": "code",
      "metadata": {
        "colab": {
          "base_uri": "https://localhost:8080/"
        },
        "id": "QiN37gXK7hp4",
        "outputId": "cb9d5c52-98ae-4e41-c20d-c10adc9fc152"
      },
      "source": [
        "municipios"
      ],
      "execution_count": 75,
      "outputs": [
        {
          "output_type": "execute_result",
          "data": {
            "text/plain": [
              "array(['Afonso Claudio', 'Agua Doce do Norte', 'Aguia Branca', 'Alegre',\n",
              "       'Alfredo Chaves', 'Alto Rio Novo', 'Anchieta', 'Apiaca', 'Aracruz',\n",
              "       'Atilio Vivacqua', 'Baixo Guandu', 'Barra de São Francisco',\n",
              "       'Boa Esperança', 'Bom Jesus do Norte', 'Brejetuba',\n",
              "       'Cachoeiro de Itapemirim', 'Cariacica', 'Castelo', 'Colatina',\n",
              "       'Conceição da Barra', 'Conceição do Castelo',\n",
              "       'Divino São Lourenço', 'Domingos Martins', 'Dores do Rio Preto',\n",
              "       'Ecoporanga', 'Fundão', 'Governador Lindenberg', 'Guaçuí',\n",
              "       'Guarapari', 'Ibatiba', 'Ibiraçú', 'Ibitirama', 'Iconha', 'Irupi',\n",
              "       'Itaguaçu', 'Itapemirim', 'Itarana', 'Iúna', 'Jaguare',\n",
              "       'Jeronimo Monteiro', 'João Neiva', 'Laranja da Terra', 'Linhares',\n",
              "       'Mantenópolis', 'Marataízes', 'Marechal Floriano', 'Marilândia',\n",
              "       'Mimoso do Sul', 'Montanha', 'Mucurici', 'Muniz Freire', 'Muqui',\n",
              "       'Nova Venécia', 'Pancas', 'Pedro Canário', 'Pinheiros', 'Piúma',\n",
              "       'Ponto Belo', 'Presidente Kennedy', 'Rio Bananal',\n",
              "       'Rio Novo do Sul', 'Santa Leopoldina', 'Santa Maria de Jetibá',\n",
              "       'Santa Teresa', 'São Domingos do Norte', 'São Gabriel da Palha',\n",
              "       'São José do Calçado', 'São Mateus', 'São Roque do Canaã', 'Serra',\n",
              "       'Sooretama', 'Vargem Alta', 'Venda Nova do Imigrante', 'Viana',\n",
              "       'Vila Pavão', 'Vila Valério', 'Vila Velha', 'Vitória'],\n",
              "      dtype=object)"
            ]
          },
          "metadata": {},
          "execution_count": 75
        }
      ]
    },
    {
      "cell_type": "code",
      "metadata": {
        "id": "d2y6TFbLwZva"
      },
      "source": [
        "df_matriz.columns = ['Municipio','Dias_eventos_extremos','Cobertura_florestal_%']"
      ],
      "execution_count": 5,
      "outputs": []
    },
    {
      "cell_type": "code",
      "metadata": {
        "colab": {
          "base_uri": "https://localhost:8080/",
          "height": 359
        },
        "id": "eWiG_5lVwjL3",
        "outputId": "f785ec13-993b-40e3-d2f9-157ea61a1242"
      },
      "source": [
        "df_matriz.head(10)"
      ],
      "execution_count": 67,
      "outputs": [
        {
          "output_type": "execute_result",
          "data": {
            "text/html": [
              "<div>\n",
              "<style scoped>\n",
              "    .dataframe tbody tr th:only-of-type {\n",
              "        vertical-align: middle;\n",
              "    }\n",
              "\n",
              "    .dataframe tbody tr th {\n",
              "        vertical-align: top;\n",
              "    }\n",
              "\n",
              "    .dataframe thead th {\n",
              "        text-align: right;\n",
              "    }\n",
              "</style>\n",
              "<table border=\"1\" class=\"dataframe\">\n",
              "  <thead>\n",
              "    <tr style=\"text-align: right;\">\n",
              "      <th></th>\n",
              "      <th>Municipio</th>\n",
              "      <th>Dias_eventos_extremos</th>\n",
              "      <th>Cobertura_florestal_%</th>\n",
              "    </tr>\n",
              "  </thead>\n",
              "  <tbody>\n",
              "    <tr>\n",
              "      <th>0</th>\n",
              "      <td>Afonso Claudio</td>\n",
              "      <td>450</td>\n",
              "      <td>0.169908</td>\n",
              "    </tr>\n",
              "    <tr>\n",
              "      <th>1</th>\n",
              "      <td>Agua Doce do Norte</td>\n",
              "      <td>720</td>\n",
              "      <td>0.091074</td>\n",
              "    </tr>\n",
              "    <tr>\n",
              "      <th>2</th>\n",
              "      <td>Aguia Branca</td>\n",
              "      <td>900</td>\n",
              "      <td>0.123253</td>\n",
              "    </tr>\n",
              "    <tr>\n",
              "      <th>3</th>\n",
              "      <td>Alegre</td>\n",
              "      <td>1440</td>\n",
              "      <td>0.112549</td>\n",
              "    </tr>\n",
              "    <tr>\n",
              "      <th>4</th>\n",
              "      <td>Alfredo Chaves</td>\n",
              "      <td>1080</td>\n",
              "      <td>0.388007</td>\n",
              "    </tr>\n",
              "    <tr>\n",
              "      <th>5</th>\n",
              "      <td>Alto Rio Novo</td>\n",
              "      <td>540</td>\n",
              "      <td>0.065580</td>\n",
              "    </tr>\n",
              "    <tr>\n",
              "      <th>6</th>\n",
              "      <td>Anchieta</td>\n",
              "      <td>180</td>\n",
              "      <td>0.153594</td>\n",
              "    </tr>\n",
              "    <tr>\n",
              "      <th>7</th>\n",
              "      <td>Apiaca</td>\n",
              "      <td>450</td>\n",
              "      <td>0.085662</td>\n",
              "    </tr>\n",
              "    <tr>\n",
              "      <th>8</th>\n",
              "      <td>Aracruz</td>\n",
              "      <td>540</td>\n",
              "      <td>0.169704</td>\n",
              "    </tr>\n",
              "    <tr>\n",
              "      <th>9</th>\n",
              "      <td>Atilio Vivacqua</td>\n",
              "      <td>270</td>\n",
              "      <td>0.156855</td>\n",
              "    </tr>\n",
              "  </tbody>\n",
              "</table>\n",
              "</div>"
            ],
            "text/plain": [
              "            Municipio  Dias_eventos_extremos  Cobertura_florestal_%\n",
              "0      Afonso Claudio                    450               0.169908\n",
              "1  Agua Doce do Norte                    720               0.091074\n",
              "2        Aguia Branca                    900               0.123253\n",
              "3              Alegre                   1440               0.112549\n",
              "4      Alfredo Chaves                   1080               0.388007\n",
              "5       Alto Rio Novo                    540               0.065580\n",
              "6            Anchieta                    180               0.153594\n",
              "7              Apiaca                    450               0.085662\n",
              "8             Aracruz                    540               0.169704\n",
              "9     Atilio Vivacqua                    270               0.156855"
            ]
          },
          "metadata": {},
          "execution_count": 67
        }
      ]
    },
    {
      "cell_type": "code",
      "metadata": {
        "colab": {
          "base_uri": "https://localhost:8080/"
        },
        "id": "9Jnnfjke5B_t",
        "outputId": "97a06523-bff8-4e09-bc79-9fc06a23f137"
      },
      "source": [
        "print(df_matriz)"
      ],
      "execution_count": 69,
      "outputs": [
        {
          "output_type": "stream",
          "text": [
            "             Municipio  Dias_eventos_extremos  Cobertura_florestal_%\n",
            "0       Afonso Claudio                    450               0.169908\n",
            "1   Agua Doce do Norte                    720               0.091074\n",
            "2         Aguia Branca                    900               0.123253\n",
            "3               Alegre                   1440               0.112549\n",
            "4       Alfredo Chaves                   1080               0.388007\n",
            "..                 ...                    ...                    ...\n",
            "73               Viana                    540               0.285345\n",
            "74          Vila Pavão                   1260               0.096413\n",
            "75        Vila Valério                    720               0.119575\n",
            "76          Vila Velha                    540               0.093993\n",
            "77             Vitória                    900               0.189883\n",
            "\n",
            "[78 rows x 3 columns]\n"
          ],
          "name": "stdout"
        }
      ]
    },
    {
      "cell_type": "code",
      "metadata": {
        "id": "ZdyTLWcUyCuZ"
      },
      "source": [
        "import numpy as np;\n",
        "import seaborn as sns; sns.set();\n",
        "import matplotlib.pyplot as plt;\n",
        "import plotly.express as px;"
      ],
      "execution_count": 7,
      "outputs": []
    },
    {
      "cell_type": "code",
      "metadata": {
        "colab": {
          "base_uri": "https://localhost:8080/",
          "height": 542
        },
        "id": "h2u3DqfevMdy",
        "outputId": "70de0f40-d629-4c2c-e66a-75333e4b856d"
      },
      "source": [
        "import plotly.express as px\n",
        "fig  = px.scatter(df_matriz, x = 'Cobertura_florestal_%',opacity=0.5, y = 'Dias_eventos_extremos', hover_name = 'Municipio', log_y = False, width = 800)\n",
        "fig.update_traces(marker = dict(size = 12, line=dict(width = 2)), selector = dict(mode = 'markers'))\n",
        "fig.update_layout(title = 'Matriz de Dispersão dos Indicadores')\n",
        "fig.update_xaxes(title = 'Cobertura Florestal (% da Area)')\n",
        "fig.update_yaxes(title = 'Dias em Situação Anromal')\n",
        "fig.show()"
      ],
      "execution_count": 9,
      "outputs": [
        {
          "output_type": "display_data",
          "data": {
            "text/html": [
              "<html>\n",
              "<head><meta charset=\"utf-8\" /></head>\n",
              "<body>\n",
              "    <div>\n",
              "            <script src=\"https://cdnjs.cloudflare.com/ajax/libs/mathjax/2.7.5/MathJax.js?config=TeX-AMS-MML_SVG\"></script><script type=\"text/javascript\">if (window.MathJax) {MathJax.Hub.Config({SVG: {font: \"STIX-Web\"}});}</script>\n",
              "                <script type=\"text/javascript\">window.PlotlyConfig = {MathJaxConfig: 'local'};</script>\n",
              "        <script src=\"https://cdn.plot.ly/plotly-latest.min.js\"></script>    \n",
              "            <div id=\"1461adff-a199-4032-8bd2-327842bdd31b\" class=\"plotly-graph-div\" style=\"height:525px; width:800px;\"></div>\n",
              "            <script type=\"text/javascript\">\n",
              "                \n",
              "                    window.PLOTLYENV=window.PLOTLYENV || {};\n",
              "                    \n",
              "                if (document.getElementById(\"1461adff-a199-4032-8bd2-327842bdd31b\")) {\n",
              "                    Plotly.newPlot(\n",
              "                        '1461adff-a199-4032-8bd2-327842bdd31b',\n",
              "                        [{\"hoverlabel\": {\"namelength\": 0}, \"hovertemplate\": \"<b>%{hovertext}</b><br><br>Cobertura_florestal_%=%{x}<br>Dias_eventos_extremos=%{y}\", \"hovertext\": [\"Afonso Claudio\", \"Agua Doce do Norte\", \"Aguia Branca\", \"Alegre\", \"Alfredo Chaves\", \"Alto Rio Novo\", \"Anchieta\", \"Apiaca\", \"Aracruz\", \"Atilio Vivacqua\", \"Baixo Guandu\", \"Barra de S\\u00e3o Francisco\", \"Boa Esperan\\u00e7a\", \"Bom Jesus do Norte\", \"Brejetuba\", \"Cachoeiro de Itapemirim\", \"Cariacica\", \"Castelo\", \"Colatina\", \"Concei\\u00e7\\u00e3o da Barra\", \"Concei\\u00e7\\u00e3o do Castelo\", \"Divino S\\u00e3o Louren\\u00e7o\", \"Domingos Martins\", \"Dores do Rio Preto\", \"Ecoporanga\", \"Fund\\u00e3o\", \"Governador Lindenberg\", \"Gua\\u00e7u\\u00ed\", \"Guarapari\", \"Ibatiba\", \"Ibira\\u00e7\\u00fa\", \"Ibitirama\", \"Iconha\", \"Irupi\", \"Itagua\\u00e7u\", \"Itapemirim\", \"Itarana\", \"I\\u00fana\", \"Jaguare\", \"Jeronimo Monteiro\", \"Jo\\u00e3o Neiva\", \"Laranja da Terra\", \"Linhares\", \"Manten\\u00f3polis\", \"Marata\\u00edzes\", \"Marechal Floriano\", \"Maril\\u00e2ndia\", \"Mimoso do Sul\", \"Montanha\", \"Mucurici\", \"Muniz Freire\", \"Muqui\", \"Nova Ven\\u00e9cia\", \"Pancas\", \"Pedro Can\\u00e1rio\", \"Pinheiros\", \"Pi\\u00fama\", \"Ponto Belo\", \"Presidente Kennedy\", \"Rio Bananal\", \"Rio Novo do Sul\", \"Santa Leopoldina\", \"Santa Maria de Jetib\\u00e1\", \"Santa Teresa\", \"S\\u00e3o Domingos do Norte\", \"S\\u00e3o Gabriel da Palha\", \"S\\u00e3o Jos\\u00e9 do Cal\\u00e7ado\", \"S\\u00e3o Mateus\", \"S\\u00e3o Roque do Cana\\u00e3\", \"Serra\", \"Sooretama\", \"Vargem Alta\", \"Venda Nova do Imigrante\", \"Viana\", \"Vila Pav\\u00e3o\", \"Vila Val\\u00e9rio\", \"Vila Velha\", \"Vit\\u00f3ria\"], \"legendgroup\": \"\", \"marker\": {\"color\": \"#636efa\", \"line\": {\"width\": 2}, \"opacity\": 0.5, \"size\": 12, \"symbol\": \"circle\"}, \"mode\": \"markers\", \"name\": \"\", \"showlegend\": false, \"type\": \"scatter\", \"x\": [0.169907525, 0.091074081, 0.123252785, 0.11254927599999999, 0.388007237, 0.06557972599999999, 0.153593958, 0.08566211900000001, 0.169704297, 0.156855339, 0.110634494, 0.110755853, 0.06757345099999999, 0.104343541, 0.11737711599999999, 0.14185226199999998, 0.281736164, 0.217122642, 0.11580593, 0.19788476, 0.255399547, 0.250406607, 0.361583819, 0.18383160199999998, 0.050250425999999994, 0.18142714699999998, 0.149873024, 0.114499291, 0.30855801, 0.09255904400000001, 0.22934870100000002, 0.2868111, 0.11200548199999999, 0.10888944099999999, 0.17854953699999998, 0.07796528900000001, 0.21193782600000002, 0.18859841300000002, 0.179391962, 0.091940045, 0.130271265, 0.211311542, 0.225194306, 0.055142993, 0.009739073000000001, 0.455187402, 0.162543977, 0.14376688, 0.036645685, 0.028273417999999998, 0.180070067, 0.17169100399999998, 0.093693586, 0.13187601300000001, 0.030181418999999998, 0.055715823, 0.030454134, 0.020097251, 0.08823060099999999, 0.135061132, 0.140255352, 0.42726654799999997, 0.357347691, 0.321870545, 0.082336489, 0.124742244, 0.12730945400000002, 0.11419313699999999, 0.126831066, 0.159163852, 0.45407444399999997, 0.337368741, 0.278052583, 0.28534509, 0.096412966, 0.119574996, 0.09399297699999999, 0.18988349100000002], \"xaxis\": \"x\", \"y\": [450, 720, 900, 1440, 1080, 540, 180, 450, 540, 270, 540, 720, 720, 990, 180, 1260, 1530, 1620, 1350, 720, 540, 180, 1890, 360, 450, 180, 900, 900, 1170, 360, 630, 810, 180, 990, 180, 1440, 810, 810, 360, 900, 630, 720, 270, 630, 360, 180, 900, 900, 1470, 1260, 720, 1170, 90, 1080, 990, 900, 720, 180, 540, 540, 720, 1080, 450, 360, 990, 1170, 720, 810, 1800, 1440, 270, 360, 1350, 540, 1260, 720, 540, 900], \"yaxis\": \"y\"}],\n",
              "                        {\"legend\": {\"tracegroupgap\": 0}, \"margin\": {\"t\": 60}, \"template\": {\"data\": {\"bar\": [{\"error_x\": {\"color\": \"#2a3f5f\"}, \"error_y\": {\"color\": \"#2a3f5f\"}, \"marker\": {\"line\": {\"color\": \"#E5ECF6\", \"width\": 0.5}}, \"type\": \"bar\"}], \"barpolar\": [{\"marker\": {\"line\": {\"color\": \"#E5ECF6\", \"width\": 0.5}}, \"type\": \"barpolar\"}], \"carpet\": [{\"aaxis\": {\"endlinecolor\": \"#2a3f5f\", \"gridcolor\": \"white\", \"linecolor\": \"white\", \"minorgridcolor\": \"white\", \"startlinecolor\": \"#2a3f5f\"}, \"baxis\": {\"endlinecolor\": \"#2a3f5f\", \"gridcolor\": \"white\", \"linecolor\": \"white\", \"minorgridcolor\": \"white\", \"startlinecolor\": \"#2a3f5f\"}, \"type\": \"carpet\"}], \"choropleth\": [{\"colorbar\": {\"outlinewidth\": 0, \"ticks\": \"\"}, \"type\": \"choropleth\"}], \"contour\": [{\"colorbar\": {\"outlinewidth\": 0, \"ticks\": \"\"}, \"colorscale\": [[0.0, \"#0d0887\"], [0.1111111111111111, \"#46039f\"], [0.2222222222222222, \"#7201a8\"], [0.3333333333333333, \"#9c179e\"], [0.4444444444444444, \"#bd3786\"], [0.5555555555555556, \"#d8576b\"], [0.6666666666666666, \"#ed7953\"], [0.7777777777777778, \"#fb9f3a\"], [0.8888888888888888, \"#fdca26\"], [1.0, \"#f0f921\"]], \"type\": \"contour\"}], \"contourcarpet\": [{\"colorbar\": {\"outlinewidth\": 0, \"ticks\": \"\"}, \"type\": \"contourcarpet\"}], \"heatmap\": [{\"colorbar\": {\"outlinewidth\": 0, \"ticks\": \"\"}, \"colorscale\": [[0.0, \"#0d0887\"], [0.1111111111111111, \"#46039f\"], [0.2222222222222222, \"#7201a8\"], [0.3333333333333333, \"#9c179e\"], [0.4444444444444444, \"#bd3786\"], [0.5555555555555556, \"#d8576b\"], [0.6666666666666666, \"#ed7953\"], [0.7777777777777778, \"#fb9f3a\"], [0.8888888888888888, \"#fdca26\"], [1.0, \"#f0f921\"]], \"type\": \"heatmap\"}], \"heatmapgl\": [{\"colorbar\": {\"outlinewidth\": 0, \"ticks\": \"\"}, \"colorscale\": [[0.0, \"#0d0887\"], [0.1111111111111111, \"#46039f\"], [0.2222222222222222, \"#7201a8\"], [0.3333333333333333, \"#9c179e\"], [0.4444444444444444, \"#bd3786\"], [0.5555555555555556, \"#d8576b\"], [0.6666666666666666, \"#ed7953\"], [0.7777777777777778, \"#fb9f3a\"], [0.8888888888888888, \"#fdca26\"], [1.0, \"#f0f921\"]], \"type\": \"heatmapgl\"}], \"histogram\": [{\"marker\": {\"colorbar\": {\"outlinewidth\": 0, \"ticks\": \"\"}}, \"type\": \"histogram\"}], \"histogram2d\": [{\"colorbar\": {\"outlinewidth\": 0, \"ticks\": \"\"}, \"colorscale\": [[0.0, \"#0d0887\"], [0.1111111111111111, \"#46039f\"], [0.2222222222222222, \"#7201a8\"], [0.3333333333333333, \"#9c179e\"], [0.4444444444444444, \"#bd3786\"], [0.5555555555555556, \"#d8576b\"], [0.6666666666666666, \"#ed7953\"], [0.7777777777777778, \"#fb9f3a\"], [0.8888888888888888, \"#fdca26\"], [1.0, \"#f0f921\"]], \"type\": \"histogram2d\"}], \"histogram2dcontour\": [{\"colorbar\": {\"outlinewidth\": 0, \"ticks\": \"\"}, \"colorscale\": [[0.0, \"#0d0887\"], [0.1111111111111111, \"#46039f\"], [0.2222222222222222, \"#7201a8\"], [0.3333333333333333, \"#9c179e\"], [0.4444444444444444, \"#bd3786\"], [0.5555555555555556, \"#d8576b\"], [0.6666666666666666, \"#ed7953\"], [0.7777777777777778, \"#fb9f3a\"], [0.8888888888888888, \"#fdca26\"], [1.0, \"#f0f921\"]], \"type\": \"histogram2dcontour\"}], \"mesh3d\": [{\"colorbar\": {\"outlinewidth\": 0, \"ticks\": \"\"}, \"type\": \"mesh3d\"}], \"parcoords\": [{\"line\": {\"colorbar\": {\"outlinewidth\": 0, \"ticks\": \"\"}}, \"type\": \"parcoords\"}], \"pie\": [{\"automargin\": true, \"type\": \"pie\"}], \"scatter\": [{\"marker\": {\"colorbar\": {\"outlinewidth\": 0, \"ticks\": \"\"}}, \"type\": \"scatter\"}], \"scatter3d\": [{\"line\": {\"colorbar\": {\"outlinewidth\": 0, \"ticks\": \"\"}}, \"marker\": {\"colorbar\": {\"outlinewidth\": 0, \"ticks\": \"\"}}, \"type\": \"scatter3d\"}], \"scattercarpet\": [{\"marker\": {\"colorbar\": {\"outlinewidth\": 0, \"ticks\": \"\"}}, \"type\": \"scattercarpet\"}], \"scattergeo\": [{\"marker\": {\"colorbar\": {\"outlinewidth\": 0, \"ticks\": \"\"}}, \"type\": \"scattergeo\"}], \"scattergl\": [{\"marker\": {\"colorbar\": {\"outlinewidth\": 0, \"ticks\": \"\"}}, \"type\": \"scattergl\"}], \"scattermapbox\": [{\"marker\": {\"colorbar\": {\"outlinewidth\": 0, \"ticks\": \"\"}}, \"type\": \"scattermapbox\"}], \"scatterpolar\": [{\"marker\": {\"colorbar\": {\"outlinewidth\": 0, \"ticks\": \"\"}}, \"type\": \"scatterpolar\"}], \"scatterpolargl\": [{\"marker\": {\"colorbar\": {\"outlinewidth\": 0, \"ticks\": \"\"}}, \"type\": \"scatterpolargl\"}], \"scatterternary\": [{\"marker\": {\"colorbar\": {\"outlinewidth\": 0, \"ticks\": \"\"}}, \"type\": \"scatterternary\"}], \"surface\": [{\"colorbar\": {\"outlinewidth\": 0, \"ticks\": \"\"}, \"colorscale\": [[0.0, \"#0d0887\"], [0.1111111111111111, \"#46039f\"], [0.2222222222222222, \"#7201a8\"], [0.3333333333333333, \"#9c179e\"], [0.4444444444444444, \"#bd3786\"], [0.5555555555555556, \"#d8576b\"], [0.6666666666666666, \"#ed7953\"], [0.7777777777777778, \"#fb9f3a\"], [0.8888888888888888, \"#fdca26\"], [1.0, \"#f0f921\"]], \"type\": \"surface\"}], \"table\": [{\"cells\": {\"fill\": {\"color\": \"#EBF0F8\"}, \"line\": {\"color\": \"white\"}}, \"header\": {\"fill\": {\"color\": \"#C8D4E3\"}, \"line\": {\"color\": \"white\"}}, \"type\": \"table\"}]}, \"layout\": {\"annotationdefaults\": {\"arrowcolor\": \"#2a3f5f\", \"arrowhead\": 0, \"arrowwidth\": 1}, \"coloraxis\": {\"colorbar\": {\"outlinewidth\": 0, \"ticks\": \"\"}}, \"colorscale\": {\"diverging\": [[0, \"#8e0152\"], [0.1, \"#c51b7d\"], [0.2, \"#de77ae\"], [0.3, \"#f1b6da\"], [0.4, \"#fde0ef\"], [0.5, \"#f7f7f7\"], [0.6, \"#e6f5d0\"], [0.7, \"#b8e186\"], [0.8, \"#7fbc41\"], [0.9, \"#4d9221\"], [1, \"#276419\"]], \"sequential\": [[0.0, \"#0d0887\"], [0.1111111111111111, \"#46039f\"], [0.2222222222222222, \"#7201a8\"], [0.3333333333333333, \"#9c179e\"], [0.4444444444444444, \"#bd3786\"], [0.5555555555555556, \"#d8576b\"], [0.6666666666666666, \"#ed7953\"], [0.7777777777777778, \"#fb9f3a\"], [0.8888888888888888, \"#fdca26\"], [1.0, \"#f0f921\"]], \"sequentialminus\": [[0.0, \"#0d0887\"], [0.1111111111111111, \"#46039f\"], [0.2222222222222222, \"#7201a8\"], [0.3333333333333333, \"#9c179e\"], [0.4444444444444444, \"#bd3786\"], [0.5555555555555556, \"#d8576b\"], [0.6666666666666666, \"#ed7953\"], [0.7777777777777778, \"#fb9f3a\"], [0.8888888888888888, \"#fdca26\"], [1.0, \"#f0f921\"]]}, \"colorway\": [\"#636efa\", \"#EF553B\", \"#00cc96\", \"#ab63fa\", \"#FFA15A\", \"#19d3f3\", \"#FF6692\", \"#B6E880\", \"#FF97FF\", \"#FECB52\"], \"font\": {\"color\": \"#2a3f5f\"}, \"geo\": {\"bgcolor\": \"white\", \"lakecolor\": \"white\", \"landcolor\": \"#E5ECF6\", \"showlakes\": true, \"showland\": true, \"subunitcolor\": \"white\"}, \"hoverlabel\": {\"align\": \"left\"}, \"hovermode\": \"closest\", \"mapbox\": {\"style\": \"light\"}, \"paper_bgcolor\": \"white\", \"plot_bgcolor\": \"#E5ECF6\", \"polar\": {\"angularaxis\": {\"gridcolor\": \"white\", \"linecolor\": \"white\", \"ticks\": \"\"}, \"bgcolor\": \"#E5ECF6\", \"radialaxis\": {\"gridcolor\": \"white\", \"linecolor\": \"white\", \"ticks\": \"\"}}, \"scene\": {\"xaxis\": {\"backgroundcolor\": \"#E5ECF6\", \"gridcolor\": \"white\", \"gridwidth\": 2, \"linecolor\": \"white\", \"showbackground\": true, \"ticks\": \"\", \"zerolinecolor\": \"white\"}, \"yaxis\": {\"backgroundcolor\": \"#E5ECF6\", \"gridcolor\": \"white\", \"gridwidth\": 2, \"linecolor\": \"white\", \"showbackground\": true, \"ticks\": \"\", \"zerolinecolor\": \"white\"}, \"zaxis\": {\"backgroundcolor\": \"#E5ECF6\", \"gridcolor\": \"white\", \"gridwidth\": 2, \"linecolor\": \"white\", \"showbackground\": true, \"ticks\": \"\", \"zerolinecolor\": \"white\"}}, \"shapedefaults\": {\"line\": {\"color\": \"#2a3f5f\"}}, \"ternary\": {\"aaxis\": {\"gridcolor\": \"white\", \"linecolor\": \"white\", \"ticks\": \"\"}, \"baxis\": {\"gridcolor\": \"white\", \"linecolor\": \"white\", \"ticks\": \"\"}, \"bgcolor\": \"#E5ECF6\", \"caxis\": {\"gridcolor\": \"white\", \"linecolor\": \"white\", \"ticks\": \"\"}}, \"title\": {\"x\": 0.05}, \"xaxis\": {\"automargin\": true, \"gridcolor\": \"white\", \"linecolor\": \"white\", \"ticks\": \"\", \"title\": {\"standoff\": 15}, \"zerolinecolor\": \"white\", \"zerolinewidth\": 2}, \"yaxis\": {\"automargin\": true, \"gridcolor\": \"white\", \"linecolor\": \"white\", \"ticks\": \"\", \"title\": {\"standoff\": 15}, \"zerolinecolor\": \"white\", \"zerolinewidth\": 2}}}, \"title\": {\"text\": \"Matriz de Dispers\\u00e3o dos Indicadores\"}, \"width\": 800, \"xaxis\": {\"anchor\": \"y\", \"domain\": [0.0, 1.0], \"title\": {\"text\": \"Cobertura Florestal (% da Area)\"}}, \"yaxis\": {\"anchor\": \"x\", \"domain\": [0.0, 1.0], \"title\": {\"text\": \"Dias em Situa\\u00e7\\u00e3o Anromal\"}}},\n",
              "                        {\"responsive\": true}\n",
              "                    ).then(function(){\n",
              "                            \n",
              "var gd = document.getElementById('1461adff-a199-4032-8bd2-327842bdd31b');\n",
              "var x = new MutationObserver(function (mutations, observer) {{\n",
              "        var display = window.getComputedStyle(gd).display;\n",
              "        if (!display || display === 'none') {{\n",
              "            console.log([gd, 'removed!']);\n",
              "            Plotly.purge(gd);\n",
              "            observer.disconnect();\n",
              "        }}\n",
              "}});\n",
              "\n",
              "// Listen for the removal of the full notebook cells\n",
              "var notebookContainer = gd.closest('#notebook-container');\n",
              "if (notebookContainer) {{\n",
              "    x.observe(notebookContainer, {childList: true});\n",
              "}}\n",
              "\n",
              "// Listen for the clearing of the current output cell\n",
              "var outputEl = gd.closest('.output');\n",
              "if (outputEl) {{\n",
              "    x.observe(outputEl, {childList: true});\n",
              "}}\n",
              "\n",
              "                        })\n",
              "                };\n",
              "                \n",
              "            </script>\n",
              "        </div>\n",
              "</body>\n",
              "</html>"
            ]
          },
          "metadata": {}
        }
      ]
    },
    {
      "cell_type": "code",
      "metadata": {
        "id": "10SV_svIkGkE"
      },
      "source": [
        "df2_matriz =df_matriz.drop('Municipio', axis=1)"
      ],
      "execution_count": 14,
      "outputs": []
    },
    {
      "cell_type": "code",
      "metadata": {
        "id": "DMRV1v-h1Zlo"
      },
      "source": [
        "#NORMALIZANDO OS VALORES ENTRE 0 E 1\n",
        "import pandas as pd\n",
        "from sklearn import preprocessing\n",
        "\n",
        "#df_normal=(df2_matriz-df2_matriz.mean())/df2_matriz.std()\n",
        "df_normal=(df2_matriz-df2_matriz.min())/(df2_matriz.max()-df2_matriz.min())"
      ],
      "execution_count": 50,
      "outputs": []
    },
    {
      "cell_type": "code",
      "metadata": {
        "colab": {
          "base_uri": "https://localhost:8080/",
          "height": 419
        },
        "id": "h9VVIvE43f4s",
        "outputId": "d2283a88-44ba-43af-e708-55905b725896"
      },
      "source": [
        "df_normal"
      ],
      "execution_count": 58,
      "outputs": [
        {
          "output_type": "execute_result",
          "data": {
            "text/html": [
              "<div>\n",
              "<style scoped>\n",
              "    .dataframe tbody tr th:only-of-type {\n",
              "        vertical-align: middle;\n",
              "    }\n",
              "\n",
              "    .dataframe tbody tr th {\n",
              "        vertical-align: top;\n",
              "    }\n",
              "\n",
              "    .dataframe thead th {\n",
              "        text-align: right;\n",
              "    }\n",
              "</style>\n",
              "<table border=\"1\" class=\"dataframe\">\n",
              "  <thead>\n",
              "    <tr style=\"text-align: right;\">\n",
              "      <th></th>\n",
              "      <th>Dias_eventos_extremos</th>\n",
              "      <th>Cobertura_florestal_%</th>\n",
              "    </tr>\n",
              "  </thead>\n",
              "  <tbody>\n",
              "    <tr>\n",
              "      <th>0</th>\n",
              "      <td>0.20</td>\n",
              "      <td>0.359567</td>\n",
              "    </tr>\n",
              "    <tr>\n",
              "      <th>1</th>\n",
              "      <td>0.35</td>\n",
              "      <td>0.182591</td>\n",
              "    </tr>\n",
              "    <tr>\n",
              "      <th>2</th>\n",
              "      <td>0.45</td>\n",
              "      <td>0.254830</td>\n",
              "    </tr>\n",
              "    <tr>\n",
              "      <th>3</th>\n",
              "      <td>0.75</td>\n",
              "      <td>0.230802</td>\n",
              "    </tr>\n",
              "    <tr>\n",
              "      <th>4</th>\n",
              "      <td>0.55</td>\n",
              "      <td>0.849185</td>\n",
              "    </tr>\n",
              "    <tr>\n",
              "      <th>...</th>\n",
              "      <td>...</td>\n",
              "      <td>...</td>\n",
              "    </tr>\n",
              "    <tr>\n",
              "      <th>73</th>\n",
              "      <td>0.25</td>\n",
              "      <td>0.618716</td>\n",
              "    </tr>\n",
              "    <tr>\n",
              "      <th>74</th>\n",
              "      <td>0.65</td>\n",
              "      <td>0.194577</td>\n",
              "    </tr>\n",
              "    <tr>\n",
              "      <th>75</th>\n",
              "      <td>0.35</td>\n",
              "      <td>0.246574</td>\n",
              "    </tr>\n",
              "    <tr>\n",
              "      <th>76</th>\n",
              "      <td>0.25</td>\n",
              "      <td>0.189144</td>\n",
              "    </tr>\n",
              "    <tr>\n",
              "      <th>77</th>\n",
              "      <td>0.45</td>\n",
              "      <td>0.404411</td>\n",
              "    </tr>\n",
              "  </tbody>\n",
              "</table>\n",
              "<p>78 rows × 2 columns</p>\n",
              "</div>"
            ],
            "text/plain": [
              "    Dias_eventos_extremos  Cobertura_florestal_%\n",
              "0                    0.20               0.359567\n",
              "1                    0.35               0.182591\n",
              "2                    0.45               0.254830\n",
              "3                    0.75               0.230802\n",
              "4                    0.55               0.849185\n",
              "..                    ...                    ...\n",
              "73                   0.25               0.618716\n",
              "74                   0.65               0.194577\n",
              "75                   0.35               0.246574\n",
              "76                   0.25               0.189144\n",
              "77                   0.45               0.404411\n",
              "\n",
              "[78 rows x 2 columns]"
            ]
          },
          "metadata": {},
          "execution_count": 58
        }
      ]
    },
    {
      "cell_type": "code",
      "metadata": {
        "id": "ZcgMVoS07G9V"
      },
      "source": [
        "df2_normal_labels =df_nromal.assign(Municipios=6)"
      ],
      "execution_count": null,
      "outputs": []
    },
    {
      "cell_type": "code",
      "metadata": {
        "id": "Y3dlJdTEkbLB"
      },
      "source": [
        "vector = df_normal.values"
      ],
      "execution_count": 61,
      "outputs": []
    },
    {
      "cell_type": "code",
      "metadata": {
        "colab": {
          "base_uri": "https://localhost:8080/",
          "height": 542
        },
        "id": "x96nerblpjNN",
        "outputId": "f7e9f96a-5fe9-46ea-c11d-ff9119a5131c"
      },
      "source": [
        "import plotly.express as px\n",
        "fig  = px.scatter(df_normal, x = 'Cobertura_florestal_%',opacity=0.5, y = 'Dias_eventos_extremos', log_y = False, width = 800)\n",
        "fig.update_traces(marker = dict(size = 12, line=dict(width = 2)), selector = dict(mode = 'markers'))\n",
        "fig.update_layout(title = 'Matriz de Dispersão dos Indicadores')\n",
        "fig.update_xaxes(title = 'Cobertura Florestal (% da Area)')\n",
        "fig.update_yaxes(title = 'Dias em Situação Anromal')\n",
        "fig.show()"
      ],
      "execution_count": 62,
      "outputs": [
        {
          "output_type": "display_data",
          "data": {
            "text/html": [
              "<html>\n",
              "<head><meta charset=\"utf-8\" /></head>\n",
              "<body>\n",
              "    <div>\n",
              "            <script src=\"https://cdnjs.cloudflare.com/ajax/libs/mathjax/2.7.5/MathJax.js?config=TeX-AMS-MML_SVG\"></script><script type=\"text/javascript\">if (window.MathJax) {MathJax.Hub.Config({SVG: {font: \"STIX-Web\"}});}</script>\n",
              "                <script type=\"text/javascript\">window.PlotlyConfig = {MathJaxConfig: 'local'};</script>\n",
              "        <script src=\"https://cdn.plot.ly/plotly-latest.min.js\"></script>    \n",
              "            <div id=\"0138e8e4-7890-434d-88fd-7b7d65479ba5\" class=\"plotly-graph-div\" style=\"height:525px; width:800px;\"></div>\n",
              "            <script type=\"text/javascript\">\n",
              "                \n",
              "                    window.PLOTLYENV=window.PLOTLYENV || {};\n",
              "                    \n",
              "                if (document.getElementById(\"0138e8e4-7890-434d-88fd-7b7d65479ba5\")) {\n",
              "                    Plotly.newPlot(\n",
              "                        '0138e8e4-7890-434d-88fd-7b7d65479ba5',\n",
              "                        [{\"hoverlabel\": {\"namelength\": 0}, \"hovertemplate\": \"Cobertura_florestal_%=%{x}<br>Dias_eventos_extremos=%{y}\", \"legendgroup\": \"\", \"marker\": {\"color\": \"#636efa\", \"line\": {\"width\": 2}, \"opacity\": 0.5, \"size\": 12, \"symbol\": \"circle\"}, \"mode\": \"markers\", \"name\": \"\", \"showlegend\": false, \"type\": \"scatter\", \"x\": [0.3595668488858559, 0.1825913415874549, 0.25483025664240394, 0.23080163580544036, 0.8491852800282925, 0.1253583173728776, 0.32294404453810394, 0.17044186958887436, 0.35911061639654285, 0.3302656142638712, 0.22650308561377494, 0.22677552798722025, 0.12983408901731447, 0.21238034097552982, 0.2416397952185381, 0.29658476729856575, 0.6106142357983793, 0.4655614478688503, 0.23811259375046392, 0.42237376313067276, 0.5514903929519511, 0.5402815957134278, 0.7898665750747489, 0.3908254171495612, 0.09094512284049895, 0.3854275856987219, 0.3145908108233132, 0.23517928159070497, 0.6708273834382259, 0.18592497851754206, 0.4930080857930438, 0.6220071082587897, 0.22958085672827833, 0.22258556502520851, 0.37896755473068566, 0.15316303049820174, 0.45392190257828985, 0.40152657077315024, 0.38085873928601033, 0.18453536953328653, 0.27058624795065733, 0.4525159392841722, 0.4836817627842084, 0.10192858979161194, 0.0, 1.0, 0.3430362043180995, 0.3008829493218281, 0.06040344131586134, 0.04160829392178503, 0.38238103706075416, 0.3635706331272375, 0.18847194508164827, 0.2741887937354907, 0.04589162124794949, 0.10321455263557626, 0.04650384713868799, 0.023253377161057884, 0.17620793005601326, 0.2813391606639072, 0.29299981726949076, 0.9373196571133617, 0.780356767260429, 0.7007130831553754, 0.16297606540129145, 0.2581739867745693, 0.26393719169165414, 0.23449198750950973, 0.2628632444594937, 0.3354480627089747, 0.9975014879896428, 0.7355054372647563, 0.6023448569272779, 0.6187160194734954, 0.1945767608884666, 0.2465738804017379, 0.18914405670606968, 0.40441148001253363], \"xaxis\": \"x\", \"y\": [0.2, 0.35, 0.45, 0.75, 0.55, 0.25, 0.05, 0.2, 0.25, 0.1, 0.25, 0.35, 0.35, 0.5, 0.05, 0.65, 0.8, 0.85, 0.7, 0.35, 0.25, 0.05, 1.0, 0.15, 0.2, 0.05, 0.45, 0.45, 0.6, 0.15, 0.3, 0.4, 0.05, 0.5, 0.05, 0.75, 0.4, 0.4, 0.15, 0.45, 0.3, 0.35, 0.1, 0.3, 0.15, 0.05, 0.45, 0.45, 0.7666666666666667, 0.65, 0.35, 0.6, 0.0, 0.55, 0.5, 0.45, 0.35, 0.05, 0.25, 0.25, 0.35, 0.55, 0.2, 0.15, 0.5, 0.6, 0.35, 0.4, 0.95, 0.75, 0.1, 0.15, 0.7, 0.25, 0.65, 0.35, 0.25, 0.45], \"yaxis\": \"y\"}],\n",
              "                        {\"legend\": {\"tracegroupgap\": 0}, \"margin\": {\"t\": 60}, \"template\": {\"data\": {\"bar\": [{\"error_x\": {\"color\": \"#2a3f5f\"}, \"error_y\": {\"color\": \"#2a3f5f\"}, \"marker\": {\"line\": {\"color\": \"#E5ECF6\", \"width\": 0.5}}, \"type\": \"bar\"}], \"barpolar\": [{\"marker\": {\"line\": {\"color\": \"#E5ECF6\", \"width\": 0.5}}, \"type\": \"barpolar\"}], \"carpet\": [{\"aaxis\": {\"endlinecolor\": \"#2a3f5f\", \"gridcolor\": \"white\", \"linecolor\": \"white\", \"minorgridcolor\": \"white\", \"startlinecolor\": \"#2a3f5f\"}, \"baxis\": {\"endlinecolor\": \"#2a3f5f\", \"gridcolor\": \"white\", \"linecolor\": \"white\", \"minorgridcolor\": \"white\", \"startlinecolor\": \"#2a3f5f\"}, \"type\": \"carpet\"}], \"choropleth\": [{\"colorbar\": {\"outlinewidth\": 0, \"ticks\": \"\"}, \"type\": \"choropleth\"}], \"contour\": [{\"colorbar\": {\"outlinewidth\": 0, \"ticks\": \"\"}, \"colorscale\": [[0.0, \"#0d0887\"], [0.1111111111111111, \"#46039f\"], [0.2222222222222222, \"#7201a8\"], [0.3333333333333333, \"#9c179e\"], [0.4444444444444444, \"#bd3786\"], [0.5555555555555556, \"#d8576b\"], [0.6666666666666666, \"#ed7953\"], [0.7777777777777778, \"#fb9f3a\"], [0.8888888888888888, \"#fdca26\"], [1.0, \"#f0f921\"]], \"type\": \"contour\"}], \"contourcarpet\": [{\"colorbar\": {\"outlinewidth\": 0, \"ticks\": \"\"}, \"type\": \"contourcarpet\"}], \"heatmap\": [{\"colorbar\": {\"outlinewidth\": 0, \"ticks\": \"\"}, \"colorscale\": [[0.0, \"#0d0887\"], [0.1111111111111111, \"#46039f\"], [0.2222222222222222, \"#7201a8\"], [0.3333333333333333, \"#9c179e\"], [0.4444444444444444, \"#bd3786\"], [0.5555555555555556, \"#d8576b\"], [0.6666666666666666, \"#ed7953\"], [0.7777777777777778, \"#fb9f3a\"], [0.8888888888888888, \"#fdca26\"], [1.0, \"#f0f921\"]], \"type\": \"heatmap\"}], \"heatmapgl\": [{\"colorbar\": {\"outlinewidth\": 0, \"ticks\": \"\"}, \"colorscale\": [[0.0, \"#0d0887\"], [0.1111111111111111, \"#46039f\"], [0.2222222222222222, \"#7201a8\"], [0.3333333333333333, \"#9c179e\"], [0.4444444444444444, \"#bd3786\"], [0.5555555555555556, \"#d8576b\"], [0.6666666666666666, \"#ed7953\"], [0.7777777777777778, \"#fb9f3a\"], [0.8888888888888888, \"#fdca26\"], [1.0, \"#f0f921\"]], \"type\": \"heatmapgl\"}], \"histogram\": [{\"marker\": {\"colorbar\": {\"outlinewidth\": 0, \"ticks\": \"\"}}, \"type\": \"histogram\"}], \"histogram2d\": [{\"colorbar\": {\"outlinewidth\": 0, \"ticks\": \"\"}, \"colorscale\": [[0.0, \"#0d0887\"], [0.1111111111111111, \"#46039f\"], [0.2222222222222222, \"#7201a8\"], [0.3333333333333333, \"#9c179e\"], [0.4444444444444444, \"#bd3786\"], [0.5555555555555556, \"#d8576b\"], [0.6666666666666666, \"#ed7953\"], [0.7777777777777778, \"#fb9f3a\"], [0.8888888888888888, \"#fdca26\"], [1.0, \"#f0f921\"]], \"type\": \"histogram2d\"}], \"histogram2dcontour\": [{\"colorbar\": {\"outlinewidth\": 0, \"ticks\": \"\"}, \"colorscale\": [[0.0, \"#0d0887\"], [0.1111111111111111, \"#46039f\"], [0.2222222222222222, \"#7201a8\"], [0.3333333333333333, \"#9c179e\"], [0.4444444444444444, \"#bd3786\"], [0.5555555555555556, \"#d8576b\"], [0.6666666666666666, \"#ed7953\"], [0.7777777777777778, \"#fb9f3a\"], [0.8888888888888888, \"#fdca26\"], [1.0, \"#f0f921\"]], \"type\": \"histogram2dcontour\"}], \"mesh3d\": [{\"colorbar\": {\"outlinewidth\": 0, \"ticks\": \"\"}, \"type\": \"mesh3d\"}], \"parcoords\": [{\"line\": {\"colorbar\": {\"outlinewidth\": 0, \"ticks\": \"\"}}, \"type\": \"parcoords\"}], \"pie\": [{\"automargin\": true, \"type\": \"pie\"}], \"scatter\": [{\"marker\": {\"colorbar\": {\"outlinewidth\": 0, \"ticks\": \"\"}}, \"type\": \"scatter\"}], \"scatter3d\": [{\"line\": {\"colorbar\": {\"outlinewidth\": 0, \"ticks\": \"\"}}, \"marker\": {\"colorbar\": {\"outlinewidth\": 0, \"ticks\": \"\"}}, \"type\": \"scatter3d\"}], \"scattercarpet\": [{\"marker\": {\"colorbar\": {\"outlinewidth\": 0, \"ticks\": \"\"}}, \"type\": \"scattercarpet\"}], \"scattergeo\": [{\"marker\": {\"colorbar\": {\"outlinewidth\": 0, \"ticks\": \"\"}}, \"type\": \"scattergeo\"}], \"scattergl\": [{\"marker\": {\"colorbar\": {\"outlinewidth\": 0, \"ticks\": \"\"}}, \"type\": \"scattergl\"}], \"scattermapbox\": [{\"marker\": {\"colorbar\": {\"outlinewidth\": 0, \"ticks\": \"\"}}, \"type\": \"scattermapbox\"}], \"scatterpolar\": [{\"marker\": {\"colorbar\": {\"outlinewidth\": 0, \"ticks\": \"\"}}, \"type\": \"scatterpolar\"}], \"scatterpolargl\": [{\"marker\": {\"colorbar\": {\"outlinewidth\": 0, \"ticks\": \"\"}}, \"type\": \"scatterpolargl\"}], \"scatterternary\": [{\"marker\": {\"colorbar\": {\"outlinewidth\": 0, \"ticks\": \"\"}}, \"type\": \"scatterternary\"}], \"surface\": [{\"colorbar\": {\"outlinewidth\": 0, \"ticks\": \"\"}, \"colorscale\": [[0.0, \"#0d0887\"], [0.1111111111111111, \"#46039f\"], [0.2222222222222222, \"#7201a8\"], [0.3333333333333333, \"#9c179e\"], [0.4444444444444444, \"#bd3786\"], [0.5555555555555556, \"#d8576b\"], [0.6666666666666666, \"#ed7953\"], [0.7777777777777778, \"#fb9f3a\"], [0.8888888888888888, \"#fdca26\"], [1.0, \"#f0f921\"]], \"type\": \"surface\"}], \"table\": [{\"cells\": {\"fill\": {\"color\": \"#EBF0F8\"}, \"line\": {\"color\": \"white\"}}, \"header\": {\"fill\": {\"color\": \"#C8D4E3\"}, \"line\": {\"color\": \"white\"}}, \"type\": \"table\"}]}, \"layout\": {\"annotationdefaults\": {\"arrowcolor\": \"#2a3f5f\", \"arrowhead\": 0, \"arrowwidth\": 1}, \"coloraxis\": {\"colorbar\": {\"outlinewidth\": 0, \"ticks\": \"\"}}, \"colorscale\": {\"diverging\": [[0, \"#8e0152\"], [0.1, \"#c51b7d\"], [0.2, \"#de77ae\"], [0.3, \"#f1b6da\"], [0.4, \"#fde0ef\"], [0.5, \"#f7f7f7\"], [0.6, \"#e6f5d0\"], [0.7, \"#b8e186\"], [0.8, \"#7fbc41\"], [0.9, \"#4d9221\"], [1, \"#276419\"]], \"sequential\": [[0.0, \"#0d0887\"], [0.1111111111111111, \"#46039f\"], [0.2222222222222222, \"#7201a8\"], [0.3333333333333333, \"#9c179e\"], [0.4444444444444444, \"#bd3786\"], [0.5555555555555556, \"#d8576b\"], [0.6666666666666666, \"#ed7953\"], [0.7777777777777778, \"#fb9f3a\"], [0.8888888888888888, \"#fdca26\"], [1.0, \"#f0f921\"]], \"sequentialminus\": [[0.0, \"#0d0887\"], [0.1111111111111111, \"#46039f\"], [0.2222222222222222, \"#7201a8\"], [0.3333333333333333, \"#9c179e\"], [0.4444444444444444, \"#bd3786\"], [0.5555555555555556, \"#d8576b\"], [0.6666666666666666, \"#ed7953\"], [0.7777777777777778, \"#fb9f3a\"], [0.8888888888888888, \"#fdca26\"], [1.0, \"#f0f921\"]]}, \"colorway\": [\"#636efa\", \"#EF553B\", \"#00cc96\", \"#ab63fa\", \"#FFA15A\", \"#19d3f3\", \"#FF6692\", \"#B6E880\", \"#FF97FF\", \"#FECB52\"], \"font\": {\"color\": \"#2a3f5f\"}, \"geo\": {\"bgcolor\": \"white\", \"lakecolor\": \"white\", \"landcolor\": \"#E5ECF6\", \"showlakes\": true, \"showland\": true, \"subunitcolor\": \"white\"}, \"hoverlabel\": {\"align\": \"left\"}, \"hovermode\": \"closest\", \"mapbox\": {\"style\": \"light\"}, \"paper_bgcolor\": \"white\", \"plot_bgcolor\": \"#E5ECF6\", \"polar\": {\"angularaxis\": {\"gridcolor\": \"white\", \"linecolor\": \"white\", \"ticks\": \"\"}, \"bgcolor\": \"#E5ECF6\", \"radialaxis\": {\"gridcolor\": \"white\", \"linecolor\": \"white\", \"ticks\": \"\"}}, \"scene\": {\"xaxis\": {\"backgroundcolor\": \"#E5ECF6\", \"gridcolor\": \"white\", \"gridwidth\": 2, \"linecolor\": \"white\", \"showbackground\": true, \"ticks\": \"\", \"zerolinecolor\": \"white\"}, \"yaxis\": {\"backgroundcolor\": \"#E5ECF6\", \"gridcolor\": \"white\", \"gridwidth\": 2, \"linecolor\": \"white\", \"showbackground\": true, \"ticks\": \"\", \"zerolinecolor\": \"white\"}, \"zaxis\": {\"backgroundcolor\": \"#E5ECF6\", \"gridcolor\": \"white\", \"gridwidth\": 2, \"linecolor\": \"white\", \"showbackground\": true, \"ticks\": \"\", \"zerolinecolor\": \"white\"}}, \"shapedefaults\": {\"line\": {\"color\": \"#2a3f5f\"}}, \"ternary\": {\"aaxis\": {\"gridcolor\": \"white\", \"linecolor\": \"white\", \"ticks\": \"\"}, \"baxis\": {\"gridcolor\": \"white\", \"linecolor\": \"white\", \"ticks\": \"\"}, \"bgcolor\": \"#E5ECF6\", \"caxis\": {\"gridcolor\": \"white\", \"linecolor\": \"white\", \"ticks\": \"\"}}, \"title\": {\"x\": 0.05}, \"xaxis\": {\"automargin\": true, \"gridcolor\": \"white\", \"linecolor\": \"white\", \"ticks\": \"\", \"title\": {\"standoff\": 15}, \"zerolinecolor\": \"white\", \"zerolinewidth\": 2}, \"yaxis\": {\"automargin\": true, \"gridcolor\": \"white\", \"linecolor\": \"white\", \"ticks\": \"\", \"title\": {\"standoff\": 15}, \"zerolinecolor\": \"white\", \"zerolinewidth\": 2}}}, \"title\": {\"text\": \"Matriz de Dispers\\u00e3o dos Indicadores\"}, \"width\": 800, \"xaxis\": {\"anchor\": \"y\", \"domain\": [0.0, 1.0], \"title\": {\"text\": \"Cobertura Florestal (% da Area)\"}}, \"yaxis\": {\"anchor\": \"x\", \"domain\": [0.0, 1.0], \"title\": {\"text\": \"Dias em Situa\\u00e7\\u00e3o Anromal\"}}},\n",
              "                        {\"responsive\": true}\n",
              "                    ).then(function(){\n",
              "                            \n",
              "var gd = document.getElementById('0138e8e4-7890-434d-88fd-7b7d65479ba5');\n",
              "var x = new MutationObserver(function (mutations, observer) {{\n",
              "        var display = window.getComputedStyle(gd).display;\n",
              "        if (!display || display === 'none') {{\n",
              "            console.log([gd, 'removed!']);\n",
              "            Plotly.purge(gd);\n",
              "            observer.disconnect();\n",
              "        }}\n",
              "}});\n",
              "\n",
              "// Listen for the removal of the full notebook cells\n",
              "var notebookContainer = gd.closest('#notebook-container');\n",
              "if (notebookContainer) {{\n",
              "    x.observe(notebookContainer, {childList: true});\n",
              "}}\n",
              "\n",
              "// Listen for the clearing of the current output cell\n",
              "var outputEl = gd.closest('.output');\n",
              "if (outputEl) {{\n",
              "    x.observe(outputEl, {childList: true});\n",
              "}}\n",
              "\n",
              "                        })\n",
              "                };\n",
              "                \n",
              "            </script>\n",
              "        </div>\n",
              "</body>\n",
              "</html>"
            ]
          },
          "metadata": {}
        }
      ]
    },
    {
      "cell_type": "markdown",
      "metadata": {
        "id": "q3z2XTGwFnJm"
      },
      "source": [
        "Preparando o Data Frame para o modelo"
      ]
    },
    {
      "cell_type": "markdown",
      "metadata": {
        "id": "7GGgF4J4Fa4K"
      },
      "source": [
        "KMEANS\n",
        "Vamos aplicar o primeiro modelo de classificação: o k-nearest neighbors!"
      ]
    },
    {
      "cell_type": "code",
      "metadata": {
        "id": "Xoj9gnu5vkA1"
      },
      "source": [
        "import numpy as np #para manipular os vetores\n",
        "from matplotlib import pyplot as plt #para plotar os gráficos\n",
        "from sklearn.cluster import KMeans #para usar o KMeans"
      ],
      "execution_count": 63,
      "outputs": []
    },
    {
      "cell_type": "code",
      "metadata": {
        "colab": {
          "base_uri": "https://localhost:8080/",
          "height": 268
        },
        "id": "x9FjC0kDuqgk",
        "outputId": "2abc59fa-76c5-4e55-e55f-41acd3e6c433"
      },
      "source": [
        "kmeans = KMeans(n_clusters = 5, #numero de clusters\n",
        "init = 'k-means++', n_init = 10, #algoritmo que define a posição dos clusters de maneira mais assertiva\n",
        "max_iter = 300) #numero máximo de iterações\n",
        "pred_y = kmeans.fit_predict(vector)\n",
        "plt.scatter(vector[:,0], vector[:,1], c = pred_y) #posicionamento dos eixos x e y\n",
        "plt.xlim(-0.1, 1.1) #range do eixo x\n",
        "plt.ylim(-0.1, 1.1) #range do eixo y\n",
        "plt.grid() #função que desenha a grade no nosso gráfico\n",
        "plt.scatter(kmeans.cluster_centers_[:,1],kmeans.cluster_centers_[:,0], s = 70, c = 'red') #posição de cada centroide no gráfico\n",
        "plt.show()"
      ],
      "execution_count": 81,
      "outputs": [
        {
          "output_type": "display_data",
          "data": {
            "image/png": "[encoded data removed]",
            "text/plain": [
              "<Figure size 432x288 with 1 Axes>"
            ]
          },
          "metadata": {}
        }
      ]
    },
    {
      "cell_type": "code",
      "metadata": {
        "colab": {
          "base_uri": "https://localhost:8080/"
        },
        "id": "c81_EzeK0p8X",
        "outputId": "4270d9f6-937e-40b9-cb78-bfd6299d26f6"
      },
      "source": [
        "print(vetor)"
      ],
      "execution_count": 37,
      "outputs": [
        {
          "output_type": "stream",
          "text": [
            "[[-0.17713675  0.0122757 ]\n",
            " [-0.02713675 -0.16469981]\n",
            " [ 0.07286325 -0.09246089]\n",
            " [ 0.37286325 -0.11648951]\n",
            " [ 0.17286325  0.50189413]\n",
            " [-0.12713675 -0.22193283]\n",
            " [-0.32713675 -0.0243471 ]\n",
            " [-0.17713675 -0.17684928]\n",
            " [-0.12713675  0.01181947]\n",
            " [-0.27713675 -0.01702553]\n",
            " [-0.12713675 -0.12078806]\n",
            " [-0.02713675 -0.12051562]\n",
            " [-0.02713675 -0.21745706]\n",
            " [ 0.12286325 -0.13491081]\n",
            " [-0.32713675 -0.10565135]\n",
            " [ 0.27286325 -0.05070638]\n",
            " [ 0.42286325  0.26332309]\n",
            " [ 0.47286325  0.1182703 ]\n",
            " [ 0.32286325 -0.10917855]\n",
            " [-0.02713675  0.07508261]\n",
            " [-0.12713675  0.20419924]\n",
            " [-0.32713675  0.19299045]\n",
            " [ 0.62286325  0.44257543]\n",
            " [-0.22713675  0.04353427]\n",
            " [-0.17713675 -0.25634603]\n",
            " [-0.32713675  0.03813644]\n",
            " [ 0.07286325 -0.03270034]\n",
            " [ 0.07286325 -0.11211187]\n",
            " [ 0.22286325  0.32353624]\n",
            " [-0.22713675 -0.16136617]\n",
            " [-0.07713675  0.14571694]\n",
            " [ 0.02286325  0.27471596]\n",
            " [-0.32713675 -0.11771029]\n",
            " [ 0.12286325 -0.12470558]\n",
            " [-0.32713675  0.03167641]\n",
            " [ 0.37286325 -0.19412812]\n",
            " [ 0.02286325  0.10663075]\n",
            " [ 0.02286325  0.05423542]\n",
            " [-0.22713675  0.03356759]\n",
            " [ 0.07286325 -0.16275578]\n",
            " [-0.07713675 -0.0767049 ]\n",
            " [-0.02713675  0.10522479]\n",
            " [-0.27713675  0.13639061]\n",
            " [-0.07713675 -0.24536256]\n",
            " [-0.22713675 -0.34729115]\n",
            " [-0.32713675  0.65270885]\n",
            " [ 0.07286325 -0.00425494]\n",
            " [ 0.07286325 -0.0464082 ]\n",
            " [ 0.38952991 -0.28688771]\n",
            " [ 0.27286325 -0.30568285]\n",
            " [-0.02713675  0.03508989]\n",
            " [ 0.22286325  0.01627948]\n",
            " [-0.37713675 -0.1588192 ]\n",
            " [ 0.17286325 -0.07310235]\n",
            " [ 0.12286325 -0.30139953]\n",
            " [ 0.07286325 -0.2440766 ]\n",
            " [-0.02713675 -0.3007873 ]\n",
            " [-0.32713675 -0.32403777]\n",
            " [-0.12713675 -0.17108322]\n",
            " [-0.12713675 -0.06595199]\n",
            " [-0.02713675 -0.05429133]\n",
            " [ 0.17286325  0.59002851]\n",
            " [-0.17713675  0.43306562]\n",
            " [-0.22713675  0.35342193]\n",
            " [ 0.12286325 -0.18431508]\n",
            " [ 0.22286325 -0.08911716]\n",
            " [-0.02713675 -0.08335396]\n",
            " [ 0.02286325 -0.11279916]\n",
            " [ 0.57286325 -0.0844279 ]\n",
            " [ 0.37286325 -0.01184309]\n",
            " [-0.27713675  0.65021034]\n",
            " [-0.22713675  0.38821429]\n",
            " [ 0.32286325  0.25505371]\n",
            " [-0.12713675  0.27142487]\n",
            " [ 0.27286325 -0.15271439]\n",
            " [-0.02713675 -0.10071727]\n",
            " [-0.12713675 -0.15814709]\n",
            " [ 0.07286325  0.05712033]]\n"
          ],
          "name": "stdout"
        }
      ]
    },
    {
      "cell_type": "code",
      "metadata": {
        "colab": {
          "base_uri": "https://localhost:8080/",
          "height": 268
        },
        "id": "KkOZ3WGoz14R",
        "outputId": "5b864d94-437e-4c24-97b4-7609b02e8706"
      },
      "source": [
        "kmeans = KMeans(n_clusters=5, init='random', max_iter=300, n_init=10, random_state=0)\n",
        "pred_y = kmeans.fit_predict(vector)\n",
        "plt.scatter(vector[:,0], vector[:,1])\n",
        "plt.scatter(kmeans.cluster_centers_[:, 0], kmeans.cluster_centers_[:, 1], s=300, c='red')\n",
        "plt.show()"
      ],
      "execution_count": 85,
      "outputs": [
        {
          "output_type": "display_data",
          "data": {
            "image/png": "[encoded data removed]",
            "text/plain": [
              "<Figure size 432x288 with 1 Axes>"
            ]
          },
          "metadata": {}
        }
      ]
    },
    {
      "cell_type": "code",
      "metadata": {
        "colab": {
          "base_uri": "https://localhost:8080/"
        },
        "id": "-FEXkzafDDiA",
        "outputId": "2c071901-2414-4029-c9f6-a74f034d6088"
      },
      "source": [
        "kmeans = KMeans(n_clusters = 5, init = 'random')\n",
        "kmeans.fit(vector)\n",
        "kmeans.cluster_centers_"
      ],
      "execution_count": 84,
      "outputs": [
        {
          "output_type": "execute_result",
          "data": {
            "text/plain": [
              "array([[0.40892857, 0.25598732],\n",
              "       [0.7       , 0.74335966],\n",
              "       [0.18181818, 0.68393289],\n",
              "       [0.14761905, 0.23984652],\n",
              "       [0.72222222, 0.24173899]])"
            ]
          },
          "metadata": {},
          "execution_count": 84
        }
      ]
    },
    {
      "cell_type": "code",
      "metadata": {
        "colab": {
          "base_uri": "https://localhost:8080/"
        },
        "id": "yg216Y2NKwOh",
        "outputId": "c27040d2-33b7-415d-d94c-eab1d1f1c0e9"
      },
      "source": [
        "#calcula a distância de cada ponto para cada um dos centroides dos clusters\n",
        "distance = kmeans.fit_transform(vector)\n",
        "distance\n"
      ],
      "execution_count": 86,
      "outputs": [
        {
          "output_type": "execute_result",
          "data": {
            "text/plain": [
              "array([[0.13067793, 0.53534984, 0.23319491, 0.63031494, 0.32487521],\n",
              "       [0.21032405, 0.37689233, 0.09412516, 0.66103034, 0.52879908],\n",
              "       [0.30275197, 0.27253682, 0.04108772, 0.54878136, 0.50601438],\n",
              "       [0.60244885, 0.02985349, 0.34200006, 0.514991  , 0.72674515],\n",
              "       [0.7302083 , 0.63138854, 0.60974172, 0.18357304, 0.40356685],\n",
              "       [0.15358844, 0.48635202, 0.20572367, 0.76447738, 0.56272045],\n",
              "       [0.1281978 , 0.67710928, 0.36512042, 0.77411194, 0.38430323],\n",
              "       [0.08695269, 0.52706672, 0.22576353, 0.76041752, 0.51381281],\n",
              "       [0.15718074, 0.4865901 , 0.1894537 , 0.59173248, 0.33190099],\n",
              "       [0.10219191, 0.62848823, 0.31773279, 0.72845501, 0.36300793],\n",
              "       [0.10324682, 0.47246795, 0.16164038, 0.68530338, 0.46248328],\n",
              "       [0.20280262, 0.37252287, 0.06577162, 0.62398651, 0.48711187],\n",
              "       [0.23034927, 0.38867993, 0.13923798, 0.70633819, 0.5790601 ],\n",
              "       [0.35344975, 0.22415318, 0.10097313, 0.56739672, 0.5688598 ],\n",
              "       [0.09763552, 0.67222223, 0.35921522, 0.82111073, 0.46151838],\n",
              "       [0.50557477, 0.09068687, 0.24446592, 0.44956402, 0.60764527],\n",
              "       [0.75037964, 0.37698585, 0.52791771, 0.16619672, 0.62251457],\n",
              "       [0.73775757, 0.25772787, 0.48832911, 0.31570849, 0.70296019],\n",
              "       [0.55238367, 0.02251617, 0.29161976, 0.50524707, 0.68357013],\n",
              "       [0.27253302, 0.413737  , 0.17651352, 0.47490204, 0.3109635 ],\n",
              "       [0.32803013, 0.56474752, 0.33552996, 0.48919712, 0.14896232],\n",
              "       [0.31589668, 0.73553409, 0.45787875, 0.6809851 , 0.19496596],\n",
              "       [1.01443351, 0.61449519, 0.7964876 , 0.30358342, 0.82501117],\n",
              "       [0.15099767, 0.59132481, 0.29193375, 0.65328431, 0.29482942],\n",
              "       [0.1578461 , 0.54355758, 0.2662519 , 0.82197612, 0.59326644],\n",
              "       [0.1752807 , 0.68740754, 0.38155537, 0.74203462, 0.32631495],\n",
              "       [0.31148186, 0.28180193, 0.07156278, 0.49632926, 0.45643735],\n",
              "       [0.30241697, 0.27230125, 0.04604169, 0.56634557, 0.52278225],\n",
              "       [0.6248144 , 0.44615594, 0.45672811, 0.12353514, 0.41838713],\n",
              "       [0.05397408, 0.5749378 , 0.26824007, 0.78309222, 0.49902332],\n",
              "       [0.2954839 , 0.49133264, 0.26085298, 0.47188549, 0.22454225],\n",
              "       [0.45797692, 0.49842853, 0.36612867, 0.32361465, 0.22679971],\n",
              "       [0.09815733, 0.67233216, 0.35989863, 0.82853404, 0.47308752],\n",
              "       [0.35280345, 0.22304612, 0.09700352, 0.5578581 , 0.56042932],\n",
              "       [0.16995335, 0.68608629, 0.37941252, 0.7451722 , 0.33223469],\n",
              "       [0.60858593, 0.09282944, 0.35623385, 0.59231079, 0.77752635],\n",
              "       [0.33094473, 0.38580921, 0.19813586, 0.41686235, 0.31703053],\n",
              "       [0.29972752, 0.35966544, 0.14581287, 0.4548075 , 0.35687061],\n",
              "       [0.14103232, 0.58889097, 0.2874663 , 0.65871612, 0.30473978],\n",
              "       [0.30739805, 0.27816756, 0.08241507, 0.61219653, 0.56685039],\n",
              "       [0.15545059, 0.42320653, 0.10990251, 0.61928564, 0.42990974],\n",
              "       [0.29357509, 0.4277573 , 0.20517328, 0.4550715 , 0.28607504],\n",
              "       [0.24844154, 0.66760527, 0.38377288, 0.65378331, 0.21632089],\n",
              "       [0.20552691, 0.44476798, 0.18867837, 0.75593242, 0.59388209],\n",
              "       [0.23985834, 0.62118919, 0.36410646, 0.9247073 , 0.68467261],\n",
              "       [0.76639598, 1.01333236, 0.82606573, 0.69883064, 0.34245358],\n",
              "       [0.31950329, 0.29045837, 0.0962516 , 0.47197338, 0.4337419 ],\n",
              "       [0.30847964, 0.27857305, 0.060848  , 0.50821811, 0.46759891],\n",
              "       [0.64453066, 0.18670268, 0.40771264, 0.68620234, 0.85488989],\n",
              "       [0.54007871, 0.21276359, 0.32260471, 0.70353037, 0.79484281],\n",
              "       [0.24753614, 0.39790648, 0.1394559 , 0.50279774, 0.34528053],\n",
              "       [0.46899486, 0.17257236, 0.21927713, 0.39273364, 0.52679029],\n",
              "       [0.15630333, 0.7241839 , 0.4144646 , 0.8932527 , 0.52776832],\n",
              "       [0.40384381, 0.17525263, 0.14224079, 0.49256604, 0.55086121],\n",
              "       [0.40223232, 0.29620754, 0.22898517, 0.72557679, 0.71297709],\n",
              "       [0.33181702, 0.3054406 , 0.15819729, 0.6872305 , 0.63965246],\n",
              "       [0.27989183, 0.42031672, 0.21761411, 0.77981282, 0.65924267],\n",
              "       [0.23757539, 0.7068371 , 0.42777892, 0.9700789 , 0.6737013 ],\n",
              "       [0.12054762, 0.47674747, 0.17782869, 0.7239897 , 0.51228253],\n",
              "       [0.11046945, 0.47387973, 0.1609379 , 0.64495189, 0.40832642],\n",
              "       [0.20924465, 0.37573535, 0.06958808, 0.5703718 , 0.42557466],\n",
              "       [0.80521997, 0.71658423, 0.69578366, 0.24519478, 0.44694822],\n",
              "       [0.54304244, 0.75021674, 0.56445944, 0.50136692, 0.0981231 ],\n",
              "       [0.46087271, 0.73354992, 0.51461151, 0.55165091, 0.03597182],\n",
              "       [0.36066799, 0.2357675 , 0.13017334, 0.61387712, 0.61043892],\n",
              "       [0.45275205, 0.12332226, 0.19108394, 0.49538383, 0.59678026],\n",
              "       [0.20380974, 0.37288355, 0.0594624 , 0.59358732, 0.4524174 ],\n",
              "       [0.25243775, 0.32230371, 0.02327593, 0.59071678, 0.49960027],\n",
              "       [0.80271101, 0.22875522, 0.54111512, 0.5416427 , 0.87601538],\n",
              "       [0.60992005, 0.09773942, 0.35020527, 0.41096457, 0.66653751],\n",
              "       [0.75914994, 0.97894711, 0.8032933 , 0.65160423, 0.3240671 ],\n",
              "       [0.49566464, 0.75580657, 0.54496021, 0.55005608, 0.06059806],\n",
              "       [0.66070399, 0.36128994, 0.4524225 , 0.14101481, 0.52456554],\n",
              "       [0.39245886, 0.60423961, 0.39601818, 0.46694329, 0.09435041],\n",
              "       [0.50441647, 0.08625732, 0.24877036, 0.55105596, 0.6772471 ],\n",
              "       [0.20249273, 0.37225362, 0.0596757 , 0.60769739, 0.46858086],\n",
              "       [0.11424797, 0.47514214, 0.1724132 , 0.71390121, 0.49946446],\n",
              "       [0.34426133, 0.31712344, 0.15400192, 0.42117202, 0.38736766]])"
            ]
          },
          "metadata": {},
          "execution_count": 86
        }
      ]
    },
    {
      "cell_type": "code",
      "metadata": {
        "colab": {
          "base_uri": "https://localhost:8080/",
          "height": 163
        },
        "id": "9mLaGC9WL3lk",
        "outputId": "aa5d5909-7d53-43e1-a788-66150ee28e26"
      },
      "source": [
        ""
      ],
      "execution_count": 90,
      "outputs": [
        {
          "output_type": "error",
          "ename": "AttributeError",
          "evalue": "ignored",
          "traceback": [
            "\u001b[0;31m---------------------------------------------------------------------------\u001b[0m",
            "\u001b[0;31mAttributeError\u001b[0m                            Traceback (most recent call last)",
            "\u001b[0;32m<ipython-input-90-bb3da62880dc>\u001b[0m in \u001b[0;36m<module>\u001b[0;34m()\u001b[0m\n\u001b[0;32m----> 1\u001b[0;31m \u001b[0mmunicipios\u001b[0m\u001b[0;34m.\u001b[0m\u001b[0mDatatypes\u001b[0m\u001b[0;34m\u001b[0m\u001b[0;34m\u001b[0m\u001b[0m\n\u001b[0m",
            "\u001b[0;31mAttributeError\u001b[0m: 'numpy.ndarray' object has no attribute 'Datatypes'"
          ]
        }
      ]
    },
    {
      "cell_type": "code",
      "metadata": {
        "colab": {
          "base_uri": "https://localhost:8080/",
          "height": 419
        },
        "id": "t-mzzuJ1LY5J",
        "outputId": "f3348bed-e1d5-4171-984d-371b1912f6c0"
      },
      "source": [
        "df_distancia_cluster = pd.DataFrame(distance)\n",
        "df_distancia_cluster\n"
      ],
      "execution_count": 89,
      "outputs": [
        {
          "output_type": "execute_result",
          "data": {
            "text/html": [
              "<div>\n",
              "<style scoped>\n",
              "    .dataframe tbody tr th:only-of-type {\n",
              "        vertical-align: middle;\n",
              "    }\n",
              "\n",
              "    .dataframe tbody tr th {\n",
              "        vertical-align: top;\n",
              "    }\n",
              "\n",
              "    .dataframe thead th {\n",
              "        text-align: right;\n",
              "    }\n",
              "</style>\n",
              "<table border=\"1\" class=\"dataframe\">\n",
              "  <thead>\n",
              "    <tr style=\"text-align: right;\">\n",
              "      <th></th>\n",
              "      <th>0</th>\n",
              "      <th>1</th>\n",
              "      <th>2</th>\n",
              "      <th>3</th>\n",
              "      <th>4</th>\n",
              "    </tr>\n",
              "  </thead>\n",
              "  <tbody>\n",
              "    <tr>\n",
              "      <th>0</th>\n",
              "      <td>0.130678</td>\n",
              "      <td>0.535350</td>\n",
              "      <td>0.233195</td>\n",
              "      <td>0.630315</td>\n",
              "      <td>0.324875</td>\n",
              "    </tr>\n",
              "    <tr>\n",
              "      <th>1</th>\n",
              "      <td>0.210324</td>\n",
              "      <td>0.376892</td>\n",
              "      <td>0.094125</td>\n",
              "      <td>0.661030</td>\n",
              "      <td>0.528799</td>\n",
              "    </tr>\n",
              "    <tr>\n",
              "      <th>2</th>\n",
              "      <td>0.302752</td>\n",
              "      <td>0.272537</td>\n",
              "      <td>0.041088</td>\n",
              "      <td>0.548781</td>\n",
              "      <td>0.506014</td>\n",
              "    </tr>\n",
              "    <tr>\n",
              "      <th>3</th>\n",
              "      <td>0.602449</td>\n",
              "      <td>0.029853</td>\n",
              "      <td>0.342000</td>\n",
              "      <td>0.514991</td>\n",
              "      <td>0.726745</td>\n",
              "    </tr>\n",
              "    <tr>\n",
              "      <th>4</th>\n",
              "      <td>0.730208</td>\n",
              "      <td>0.631389</td>\n",
              "      <td>0.609742</td>\n",
              "      <td>0.183573</td>\n",
              "      <td>0.403567</td>\n",
              "    </tr>\n",
              "    <tr>\n",
              "      <th>...</th>\n",
              "      <td>...</td>\n",
              "      <td>...</td>\n",
              "      <td>...</td>\n",
              "      <td>...</td>\n",
              "      <td>...</td>\n",
              "    </tr>\n",
              "    <tr>\n",
              "      <th>73</th>\n",
              "      <td>0.392459</td>\n",
              "      <td>0.604240</td>\n",
              "      <td>0.396018</td>\n",
              "      <td>0.466943</td>\n",
              "      <td>0.094350</td>\n",
              "    </tr>\n",
              "    <tr>\n",
              "      <th>74</th>\n",
              "      <td>0.504416</td>\n",
              "      <td>0.086257</td>\n",
              "      <td>0.248770</td>\n",
              "      <td>0.551056</td>\n",
              "      <td>0.677247</td>\n",
              "    </tr>\n",
              "    <tr>\n",
              "      <th>75</th>\n",
              "      <td>0.202493</td>\n",
              "      <td>0.372254</td>\n",
              "      <td>0.059676</td>\n",
              "      <td>0.607697</td>\n",
              "      <td>0.468581</td>\n",
              "    </tr>\n",
              "    <tr>\n",
              "      <th>76</th>\n",
              "      <td>0.114248</td>\n",
              "      <td>0.475142</td>\n",
              "      <td>0.172413</td>\n",
              "      <td>0.713901</td>\n",
              "      <td>0.499464</td>\n",
              "    </tr>\n",
              "    <tr>\n",
              "      <th>77</th>\n",
              "      <td>0.344261</td>\n",
              "      <td>0.317123</td>\n",
              "      <td>0.154002</td>\n",
              "      <td>0.421172</td>\n",
              "      <td>0.387368</td>\n",
              "    </tr>\n",
              "  </tbody>\n",
              "</table>\n",
              "<p>78 rows × 5 columns</p>\n",
              "</div>"
            ],
            "text/plain": [
              "           0         1         2         3         4\n",
              "0   0.130678  0.535350  0.233195  0.630315  0.324875\n",
              "1   0.210324  0.376892  0.094125  0.661030  0.528799\n",
              "2   0.302752  0.272537  0.041088  0.548781  0.506014\n",
              "3   0.602449  0.029853  0.342000  0.514991  0.726745\n",
              "4   0.730208  0.631389  0.609742  0.183573  0.403567\n",
              "..       ...       ...       ...       ...       ...\n",
              "73  0.392459  0.604240  0.396018  0.466943  0.094350\n",
              "74  0.504416  0.086257  0.248770  0.551056  0.677247\n",
              "75  0.202493  0.372254  0.059676  0.607697  0.468581\n",
              "76  0.114248  0.475142  0.172413  0.713901  0.499464\n",
              "77  0.344261  0.317123  0.154002  0.421172  0.387368\n",
              "\n",
              "[78 rows x 5 columns]"
            ]
          },
          "metadata": {},
          "execution_count": 89
        }
      ]
    },
    {
      "cell_type": "code",
      "metadata": {
        "id": "1jdLhGf5MOfl"
      },
      "source": [
        "\n",
        "df_distancia_cluster=df_distancia_cluster.assign(municipios)"
      ],
      "execution_count": null,
      "outputs": []
    }
  ]
}