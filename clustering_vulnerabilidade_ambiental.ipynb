{
  "nbformat": 4,
  "nbformat_minor": 0,
  "metadata": {
    "colab": {
      "name": "clustering_vulnerabilidade_ambiental.ipynb",
      "provenance": [],
      "collapsed_sections": [],
      "authorship_tag": "ABX9TyNc3xyfEQ5JVhe91rYq0FmR",
      "include_colab_link": true
    },
    "kernelspec": {
      "name": "python3",
      "display_name": "Python 3"
    },
    "language_info": {
      "name": "python"
    }
  },
  "cells": [
    {
      "cell_type": "markdown",
      "metadata": {
        "id": "view-in-github",
        "colab_type": "text"
      },
      "source": [
        "<a href=\"https://colab.research.google.com/github/rmontteiro/proesam/blob/main/clustering_vulnerabilidade_ambiental.ipynb\" target=\"_parent\"><img src=\"https://colab.research.google.com/assets/colab-badge.svg\" alt=\"Open In Colab\"/></a>"
      ]
    },
    {
      "cell_type": "code",
      "metadata": {
        "id": "bVg-uyUmQZKr"
      },
      "source": [
        "import numpy as np\n",
        "import pandas as pd"
      ],
      "execution_count": 1,
      "outputs": []
    },
    {
      "cell_type": "code",
      "metadata": {
        "id": "SIhTmoIV23eR"
      },
      "source": [
        "#lendo o csv uso do solo\n",
        "df_matriz = pd.read_excel('/content/matriz_processamento_final.xlsx')"
      ],
      "execution_count": 2,
      "outputs": []
    },
    {
      "cell_type": "code",
      "metadata": {
        "colab": {
          "base_uri": "https://localhost:8080/",
          "height": 359
        },
        "id": "aeNZzYXu7wvh",
        "outputId": "38ab2c4f-4b56-4b94-a2e2-7d4f877e1a5f"
      },
      "source": [
        "df_matriz.head(10)"
      ],
      "execution_count": 3,
      "outputs": [
        {
          "output_type": "execute_result",
          "data": {
            "text/html": [
              "<div>\n",
              "<style scoped>\n",
              "    .dataframe tbody tr th:only-of-type {\n",
              "        vertical-align: middle;\n",
              "    }\n",
              "\n",
              "    .dataframe tbody tr th {\n",
              "        vertical-align: top;\n",
              "    }\n",
              "\n",
              "    .dataframe thead th {\n",
              "        text-align: right;\n",
              "    }\n",
              "</style>\n",
              "<table border=\"1\" class=\"dataframe\">\n",
              "  <thead>\n",
              "    <tr style=\"text-align: right;\">\n",
              "      <th></th>\n",
              "      <th>Municipio</th>\n",
              "      <th>Numero de Dias</th>\n",
              "      <th>Percentual de  Cobertura Florestal</th>\n",
              "    </tr>\n",
              "  </thead>\n",
              "  <tbody>\n",
              "    <tr>\n",
              "      <th>0</th>\n",
              "      <td>Afonso Claudio</td>\n",
              "      <td>450</td>\n",
              "      <td>0.169908</td>\n",
              "    </tr>\n",
              "    <tr>\n",
              "      <th>1</th>\n",
              "      <td>Agua Doce do Norte</td>\n",
              "      <td>720</td>\n",
              "      <td>0.091074</td>\n",
              "    </tr>\n",
              "    <tr>\n",
              "      <th>2</th>\n",
              "      <td>Aguia Branca</td>\n",
              "      <td>900</td>\n",
              "      <td>0.123253</td>\n",
              "    </tr>\n",
              "    <tr>\n",
              "      <th>3</th>\n",
              "      <td>Alegre</td>\n",
              "      <td>1440</td>\n",
              "      <td>0.112549</td>\n",
              "    </tr>\n",
              "    <tr>\n",
              "      <th>4</th>\n",
              "      <td>Alfredo Chaves</td>\n",
              "      <td>1080</td>\n",
              "      <td>0.388007</td>\n",
              "    </tr>\n",
              "    <tr>\n",
              "      <th>5</th>\n",
              "      <td>Alto Rio Novo</td>\n",
              "      <td>540</td>\n",
              "      <td>0.065580</td>\n",
              "    </tr>\n",
              "    <tr>\n",
              "      <th>6</th>\n",
              "      <td>Anchieta</td>\n",
              "      <td>180</td>\n",
              "      <td>0.153594</td>\n",
              "    </tr>\n",
              "    <tr>\n",
              "      <th>7</th>\n",
              "      <td>Apiaca</td>\n",
              "      <td>450</td>\n",
              "      <td>0.085662</td>\n",
              "    </tr>\n",
              "    <tr>\n",
              "      <th>8</th>\n",
              "      <td>Aracruz</td>\n",
              "      <td>540</td>\n",
              "      <td>0.169704</td>\n",
              "    </tr>\n",
              "    <tr>\n",
              "      <th>9</th>\n",
              "      <td>Atilio Vivacqua</td>\n",
              "      <td>270</td>\n",
              "      <td>0.156855</td>\n",
              "    </tr>\n",
              "  </tbody>\n",
              "</table>\n",
              "</div>"
            ],
            "text/plain": [
              "            Municipio  Numero de Dias  Percentual de  Cobertura Florestal\n",
              "0      Afonso Claudio             450                            0.169908\n",
              "1  Agua Doce do Norte             720                            0.091074\n",
              "2        Aguia Branca             900                            0.123253\n",
              "3              Alegre            1440                            0.112549\n",
              "4      Alfredo Chaves            1080                            0.388007\n",
              "5       Alto Rio Novo             540                            0.065580\n",
              "6            Anchieta             180                            0.153594\n",
              "7              Apiaca             450                            0.085662\n",
              "8             Aracruz             540                            0.169704\n",
              "9     Atilio Vivacqua             270                            0.156855"
            ]
          },
          "metadata": {},
          "execution_count": 3
        }
      ]
    },
    {
      "cell_type": "code",
      "metadata": {
        "id": "rXoGLW0V7b1z"
      },
      "source": [
        "municipios= df_matriz['Municipio'].values"
      ],
      "execution_count": 5,
      "outputs": []
    },
    {
      "cell_type": "code",
      "metadata": {
        "colab": {
          "base_uri": "https://localhost:8080/"
        },
        "id": "QiN37gXK7hp4",
        "outputId": "d525f6b4-5bea-4489-d967-4beeca480f90"
      },
      "source": [
        "municipios"
      ],
      "execution_count": 6,
      "outputs": [
        {
          "output_type": "execute_result",
          "data": {
            "text/plain": [
              "array(['Afonso Claudio', 'Agua Doce do Norte', 'Aguia Branca', 'Alegre',\n",
              "       'Alfredo Chaves', 'Alto Rio Novo', 'Anchieta', 'Apiaca', 'Aracruz',\n",
              "       'Atilio Vivacqua', 'Baixo Guandu', 'Barra de São Francisco',\n",
              "       'Boa Esperança', 'Bom Jesus do Norte', 'Brejetuba',\n",
              "       'Cachoeiro de Itapemirim', 'Cariacica', 'Castelo', 'Colatina',\n",
              "       'Conceição da Barra', 'Conceição do Castelo',\n",
              "       'Divino São Lourenço', 'Domingos Martins', 'Dores do Rio Preto',\n",
              "       'Ecoporanga', 'Fundão', 'Governador Lindenberg', 'Guaçuí',\n",
              "       'Guarapari', 'Ibatiba', 'Ibiraçú', 'Ibitirama', 'Iconha', 'Irupi',\n",
              "       'Itaguaçu', 'Itapemirim', 'Itarana', 'Iúna', 'Jaguare',\n",
              "       'Jeronimo Monteiro', 'João Neiva', 'Laranja da Terra', 'Linhares',\n",
              "       'Mantenópolis', 'Marataízes', 'Marechal Floriano', 'Marilândia',\n",
              "       'Mimoso do Sul', 'Montanha', 'Mucurici', 'Muniz Freire', 'Muqui',\n",
              "       'Nova Venécia', 'Pancas', 'Pedro Canário', 'Pinheiros', 'Piúma',\n",
              "       'Ponto Belo', 'Presidente Kennedy', 'Rio Bananal',\n",
              "       'Rio Novo do Sul', 'Santa Leopoldina', 'Santa Maria de Jetibá',\n",
              "       'Santa Teresa', 'São Domingos do Norte', 'São Gabriel da Palha',\n",
              "       'São José do Calçado', 'São Mateus', 'São Roque do Canaã', 'Serra',\n",
              "       'Sooretama', 'Vargem Alta', 'Venda Nova do Imigrante', 'Viana',\n",
              "       'Vila Pavão', 'Vila Valério', 'Vila Velha', 'Vitória'],\n",
              "      dtype=object)"
            ]
          },
          "metadata": {},
          "execution_count": 6
        }
      ]
    },
    {
      "cell_type": "code",
      "metadata": {
        "id": "d2y6TFbLwZva"
      },
      "source": [
        "df_matriz.columns = ['Municipio','Dias_eventos_extremos','Cobertura_florestal_%']"
      ],
      "execution_count": 8,
      "outputs": []
    },
    {
      "cell_type": "code",
      "metadata": {
        "colab": {
          "base_uri": "https://localhost:8080/",
          "height": 359
        },
        "id": "eWiG_5lVwjL3",
        "outputId": "6281d3fa-e4bb-481f-c66f-a8567266e389"
      },
      "source": [
        "df_matriz.head(10)"
      ],
      "execution_count": 7,
      "outputs": [
        {
          "output_type": "execute_result",
          "data": {
            "text/html": [
              "<div>\n",
              "<style scoped>\n",
              "    .dataframe tbody tr th:only-of-type {\n",
              "        vertical-align: middle;\n",
              "    }\n",
              "\n",
              "    .dataframe tbody tr th {\n",
              "        vertical-align: top;\n",
              "    }\n",
              "\n",
              "    .dataframe thead th {\n",
              "        text-align: right;\n",
              "    }\n",
              "</style>\n",
              "<table border=\"1\" class=\"dataframe\">\n",
              "  <thead>\n",
              "    <tr style=\"text-align: right;\">\n",
              "      <th></th>\n",
              "      <th>Municipio</th>\n",
              "      <th>Numero de Dias</th>\n",
              "      <th>Percentual de  Cobertura Florestal</th>\n",
              "    </tr>\n",
              "  </thead>\n",
              "  <tbody>\n",
              "    <tr>\n",
              "      <th>0</th>\n",
              "      <td>Afonso Claudio</td>\n",
              "      <td>450</td>\n",
              "      <td>0.169908</td>\n",
              "    </tr>\n",
              "    <tr>\n",
              "      <th>1</th>\n",
              "      <td>Agua Doce do Norte</td>\n",
              "      <td>720</td>\n",
              "      <td>0.091074</td>\n",
              "    </tr>\n",
              "    <tr>\n",
              "      <th>2</th>\n",
              "      <td>Aguia Branca</td>\n",
              "      <td>900</td>\n",
              "      <td>0.123253</td>\n",
              "    </tr>\n",
              "    <tr>\n",
              "      <th>3</th>\n",
              "      <td>Alegre</td>\n",
              "      <td>1440</td>\n",
              "      <td>0.112549</td>\n",
              "    </tr>\n",
              "    <tr>\n",
              "      <th>4</th>\n",
              "      <td>Alfredo Chaves</td>\n",
              "      <td>1080</td>\n",
              "      <td>0.388007</td>\n",
              "    </tr>\n",
              "    <tr>\n",
              "      <th>5</th>\n",
              "      <td>Alto Rio Novo</td>\n",
              "      <td>540</td>\n",
              "      <td>0.065580</td>\n",
              "    </tr>\n",
              "    <tr>\n",
              "      <th>6</th>\n",
              "      <td>Anchieta</td>\n",
              "      <td>180</td>\n",
              "      <td>0.153594</td>\n",
              "    </tr>\n",
              "    <tr>\n",
              "      <th>7</th>\n",
              "      <td>Apiaca</td>\n",
              "      <td>450</td>\n",
              "      <td>0.085662</td>\n",
              "    </tr>\n",
              "    <tr>\n",
              "      <th>8</th>\n",
              "      <td>Aracruz</td>\n",
              "      <td>540</td>\n",
              "      <td>0.169704</td>\n",
              "    </tr>\n",
              "    <tr>\n",
              "      <th>9</th>\n",
              "      <td>Atilio Vivacqua</td>\n",
              "      <td>270</td>\n",
              "      <td>0.156855</td>\n",
              "    </tr>\n",
              "  </tbody>\n",
              "</table>\n",
              "</div>"
            ],
            "text/plain": [
              "            Municipio  Numero de Dias  Percentual de  Cobertura Florestal\n",
              "0      Afonso Claudio             450                            0.169908\n",
              "1  Agua Doce do Norte             720                            0.091074\n",
              "2        Aguia Branca             900                            0.123253\n",
              "3              Alegre            1440                            0.112549\n",
              "4      Alfredo Chaves            1080                            0.388007\n",
              "5       Alto Rio Novo             540                            0.065580\n",
              "6            Anchieta             180                            0.153594\n",
              "7              Apiaca             450                            0.085662\n",
              "8             Aracruz             540                            0.169704\n",
              "9     Atilio Vivacqua             270                            0.156855"
            ]
          },
          "metadata": {},
          "execution_count": 7
        }
      ]
    },
    {
      "cell_type": "code",
      "metadata": {
        "colab": {
          "base_uri": "https://localhost:8080/"
        },
        "id": "9Jnnfjke5B_t",
        "outputId": "5c2a0d63-244a-4c65-a714-7cb392c20e7c"
      },
      "source": [
        "print(df_matriz)"
      ],
      "execution_count": 9,
      "outputs": [
        {
          "output_type": "stream",
          "text": [
            "             Municipio  Dias_eventos_extremos  Cobertura_florestal_%\n",
            "0       Afonso Claudio                    450               0.169908\n",
            "1   Agua Doce do Norte                    720               0.091074\n",
            "2         Aguia Branca                    900               0.123253\n",
            "3               Alegre                   1440               0.112549\n",
            "4       Alfredo Chaves                   1080               0.388007\n",
            "..                 ...                    ...                    ...\n",
            "73               Viana                    540               0.285345\n",
            "74          Vila Pavão                   1260               0.096413\n",
            "75        Vila Valério                    720               0.119575\n",
            "76          Vila Velha                    540               0.093993\n",
            "77             Vitória                    900               0.189883\n",
            "\n",
            "[78 rows x 3 columns]\n"
          ],
          "name": "stdout"
        }
      ]
    },
    {
      "cell_type": "code",
      "metadata": {
        "id": "ZdyTLWcUyCuZ"
      },
      "source": [
        "import numpy as np;\n",
        "import seaborn as sns; sns.set();\n",
        "import matplotlib.pyplot as plt;\n",
        "import plotly.express as px;"
      ],
      "execution_count": 10,
      "outputs": []
    },
    {
      "cell_type": "code",
      "metadata": {
        "colab": {
          "base_uri": "https://localhost:8080/",
          "height": 542
        },
        "id": "h2u3DqfevMdy",
        "outputId": "70de0f40-d629-4c2c-e66a-75333e4b856d"
      },
      "source": [
        "import plotly.express as px\n",
        "fig  = px.scatter(df_matriz, x = 'Cobertura_florestal_%',opacity=0.5, y = 'Dias_eventos_extremos', hover_name = 'Municipio', log_y = False, width = 800)\n",
        "fig.update_traces(marker = dict(size = 12, line=dict(width = 2)), selector = dict(mode = 'markers'))\n",
        "fig.update_layout(title = 'Matriz de Dispersão dos Indicadores')\n",
        "fig.update_xaxes(title = 'Cobertura Florestal (% da Area)')\n",
        "fig.update_yaxes(title = 'Dias em Situação Anromal')\n",
        "fig.show()"
      ],
      "execution_count": null,
      "outputs": [
        {
          "output_type": "display_data",
          "data": {
            "text/html": [
              "<html>\n",
              "<head><meta charset=\"utf-8\" /></head>\n",
              "<body>\n",
              "    <div>\n",
              "            <script src=\"https://cdnjs.cloudflare.com/ajax/libs/mathjax/2.7.5/MathJax.js?config=TeX-AMS-MML_SVG\"></script><script type=\"text/javascript\">if (window.MathJax) {MathJax.Hub.Config({SVG: {font: \"STIX-Web\"}});}</script>\n",
              "                <script type=\"text/javascript\">window.PlotlyConfig = {MathJaxConfig: 'local'};</script>\n",
              "        <script src=\"https://cdn.plot.ly/plotly-latest.min.js\"></script>    \n",
              "            <div id=\"1461adff-a199-4032-8bd2-327842bdd31b\" class=\"plotly-graph-div\" style=\"height:525px; width:800px;\"></div>\n",
              "            <script type=\"text/javascript\">\n",
              "                \n",
              "                    window.PLOTLYENV=window.PLOTLYENV || {};\n",
              "                    \n",
              "                if (document.getElementById(\"1461adff-a199-4032-8bd2-327842bdd31b\")) {\n",
              "                    Plotly.newPlot(\n",
              "                        '1461adff-a199-4032-8bd2-327842bdd31b',\n",
              "                        [{\"hoverlabel\": {\"namelength\": 0}, \"hovertemplate\": \"<b>%{hovertext}</b><br><br>Cobertura_florestal_%=%{x}<br>Dias_eventos_extremos=%{y}\", \"hovertext\": [\"Afonso Claudio\", \"Agua Doce do Norte\", \"Aguia Branca\", \"Alegre\", \"Alfredo Chaves\", \"Alto Rio Novo\", \"Anchieta\", \"Apiaca\", \"Aracruz\", \"Atilio Vivacqua\", \"Baixo Guandu\", \"Barra de S\\u00e3o Francisco\", \"Boa Esperan\\u00e7a\", \"Bom Jesus do Norte\", \"Brejetuba\", \"Cachoeiro de Itapemirim\", \"Cariacica\", \"Castelo\", \"Colatina\", \"Concei\\u00e7\\u00e3o da Barra\", \"Concei\\u00e7\\u00e3o do Castelo\", \"Divino S\\u00e3o Louren\\u00e7o\", \"Domingos Martins\", \"Dores do Rio Preto\", \"Ecoporanga\", \"Fund\\u00e3o\", \"Governador Lindenberg\", \"Gua\\u00e7u\\u00ed\", \"Guarapari\", \"Ibatiba\", \"Ibira\\u00e7\\u00fa\", \"Ibitirama\", \"Iconha\", \"Irupi\", \"Itagua\\u00e7u\", \"Itapemirim\", \"Itarana\", \"I\\u00fana\", \"Jaguare\", \"Jeronimo Monteiro\", \"Jo\\u00e3o Neiva\", \"Laranja da Terra\", \"Linhares\", \"Manten\\u00f3polis\", \"Marata\\u00edzes\", \"Marechal Floriano\", \"Maril\\u00e2ndia\", \"Mimoso do Sul\", \"Montanha\", \"Mucurici\", \"Muniz Freire\", \"Muqui\", \"Nova Ven\\u00e9cia\", \"Pancas\", \"Pedro Can\\u00e1rio\", \"Pinheiros\", \"Pi\\u00fama\", \"Ponto Belo\", \"Presidente Kennedy\", \"Rio Bananal\", \"Rio Novo do Sul\", \"Santa Leopoldina\", \"Santa Maria de Jetib\\u00e1\", \"Santa Teresa\", \"S\\u00e3o Domingos do Norte\", \"S\\u00e3o Gabriel da Palha\", \"S\\u00e3o Jos\\u00e9 do Cal\\u00e7ado\", \"S\\u00e3o Mateus\", \"S\\u00e3o Roque do Cana\\u00e3\", \"Serra\", \"Sooretama\", \"Vargem Alta\", \"Venda Nova do Imigrante\", \"Viana\", \"Vila Pav\\u00e3o\", \"Vila Val\\u00e9rio\", \"Vila Velha\", \"Vit\\u00f3ria\"], \"legendgroup\": \"\", \"marker\": {\"color\": \"#636efa\", \"line\": {\"width\": 2}, \"opacity\": 0.5, \"size\": 12, \"symbol\": \"circle\"}, \"mode\": \"markers\", \"name\": \"\", \"showlegend\": false, \"type\": \"scatter\", \"x\": [0.169907525, 0.091074081, 0.123252785, 0.11254927599999999, 0.388007237, 0.06557972599999999, 0.153593958, 0.08566211900000001, 0.169704297, 0.156855339, 0.110634494, 0.110755853, 0.06757345099999999, 0.104343541, 0.11737711599999999, 0.14185226199999998, 0.281736164, 0.217122642, 0.11580593, 0.19788476, 0.255399547, 0.250406607, 0.361583819, 0.18383160199999998, 0.050250425999999994, 0.18142714699999998, 0.149873024, 0.114499291, 0.30855801, 0.09255904400000001, 0.22934870100000002, 0.2868111, 0.11200548199999999, 0.10888944099999999, 0.17854953699999998, 0.07796528900000001, 0.21193782600000002, 0.18859841300000002, 0.179391962, 0.091940045, 0.130271265, 0.211311542, 0.225194306, 0.055142993, 0.009739073000000001, 0.455187402, 0.162543977, 0.14376688, 0.036645685, 0.028273417999999998, 0.180070067, 0.17169100399999998, 0.093693586, 0.13187601300000001, 0.030181418999999998, 0.055715823, 0.030454134, 0.020097251, 0.08823060099999999, 0.135061132, 0.140255352, 0.42726654799999997, 0.357347691, 0.321870545, 0.082336489, 0.124742244, 0.12730945400000002, 0.11419313699999999, 0.126831066, 0.159163852, 0.45407444399999997, 0.337368741, 0.278052583, 0.28534509, 0.096412966, 0.119574996, 0.09399297699999999, 0.18988349100000002], \"xaxis\": \"x\", \"y\": [450, 720, 900, 1440, 1080, 540, 180, 450, 540, 270, 540, 720, 720, 990, 180, 1260, 1530, 1620, 1350, 720, 540, 180, 1890, 360, 450, 180, 900, 900, 1170, 360, 630, 810, 180, 990, 180, 1440, 810, 810, 360, 900, 630, 720, 270, 630, 360, 180, 900, 900, 1470, 1260, 720, 1170, 90, 1080, 990, 900, 720, 180, 540, 540, 720, 1080, 450, 360, 990, 1170, 720, 810, 1800, 1440, 270, 360, 1350, 540, 1260, 720, 540, 900], \"yaxis\": \"y\"}],\n",
              "                        {\"legend\": {\"tracegroupgap\": 0}, \"margin\": {\"t\": 60}, \"template\": {\"data\": {\"bar\": [{\"error_x\": {\"color\": \"#2a3f5f\"}, \"error_y\": {\"color\": \"#2a3f5f\"}, \"marker\": {\"line\": {\"color\": \"#E5ECF6\", \"width\": 0.5}}, \"type\": \"bar\"}], \"barpolar\": [{\"marker\": {\"line\": {\"color\": \"#E5ECF6\", \"width\": 0.5}}, \"type\": \"barpolar\"}], \"carpet\": [{\"aaxis\": {\"endlinecolor\": \"#2a3f5f\", \"gridcolor\": \"white\", \"linecolor\": \"white\", \"minorgridcolor\": \"white\", \"startlinecolor\": \"#2a3f5f\"}, \"baxis\": {\"endlinecolor\": \"#2a3f5f\", \"gridcolor\": \"white\", \"linecolor\": \"white\", \"minorgridcolor\": \"white\", \"startlinecolor\": \"#2a3f5f\"}, \"type\": \"carpet\"}], \"choropleth\": [{\"colorbar\": {\"outlinewidth\": 0, \"ticks\": \"\"}, \"type\": \"choropleth\"}], \"contour\": [{\"colorbar\": {\"outlinewidth\": 0, \"ticks\": \"\"}, \"colorscale\": [[0.0, \"#0d0887\"], [0.1111111111111111, \"#46039f\"], [0.2222222222222222, \"#7201a8\"], [0.3333333333333333, \"#9c179e\"], [0.4444444444444444, \"#bd3786\"], [0.5555555555555556, \"#d8576b\"], [0.6666666666666666, \"#ed7953\"], [0.7777777777777778, \"#fb9f3a\"], [0.8888888888888888, \"#fdca26\"], [1.0, \"#f0f921\"]], \"type\": \"contour\"}], \"contourcarpet\": [{\"colorbar\": {\"outlinewidth\": 0, \"ticks\": \"\"}, \"type\": \"contourcarpet\"}], \"heatmap\": [{\"colorbar\": {\"outlinewidth\": 0, \"ticks\": \"\"}, \"colorscale\": [[0.0, \"#0d0887\"], [0.1111111111111111, \"#46039f\"], [0.2222222222222222, \"#7201a8\"], [0.3333333333333333, \"#9c179e\"], [0.4444444444444444, \"#bd3786\"], [0.5555555555555556, \"#d8576b\"], [0.6666666666666666, \"#ed7953\"], [0.7777777777777778, \"#fb9f3a\"], [0.8888888888888888, \"#fdca26\"], [1.0, \"#f0f921\"]], \"type\": \"heatmap\"}], \"heatmapgl\": [{\"colorbar\": {\"outlinewidth\": 0, \"ticks\": \"\"}, \"colorscale\": [[0.0, \"#0d0887\"], [0.1111111111111111, \"#46039f\"], [0.2222222222222222, \"#7201a8\"], [0.3333333333333333, \"#9c179e\"], [0.4444444444444444, \"#bd3786\"], [0.5555555555555556, \"#d8576b\"], [0.6666666666666666, \"#ed7953\"], [0.7777777777777778, \"#fb9f3a\"], [0.8888888888888888, \"#fdca26\"], [1.0, \"#f0f921\"]], \"type\": \"heatmapgl\"}], \"histogram\": [{\"marker\": {\"colorbar\": {\"outlinewidth\": 0, \"ticks\": \"\"}}, \"type\": \"histogram\"}], \"histogram2d\": [{\"colorbar\": {\"outlinewidth\": 0, \"ticks\": \"\"}, \"colorscale\": [[0.0, \"#0d0887\"], [0.1111111111111111, \"#46039f\"], [0.2222222222222222, \"#7201a8\"], [0.3333333333333333, \"#9c179e\"], [0.4444444444444444, \"#bd3786\"], [0.5555555555555556, \"#d8576b\"], [0.6666666666666666, \"#ed7953\"], [0.7777777777777778, \"#fb9f3a\"], [0.8888888888888888, \"#fdca26\"], [1.0, \"#f0f921\"]], \"type\": \"histogram2d\"}], \"histogram2dcontour\": [{\"colorbar\": {\"outlinewidth\": 0, \"ticks\": \"\"}, \"colorscale\": [[0.0, \"#0d0887\"], [0.1111111111111111, \"#46039f\"], [0.2222222222222222, \"#7201a8\"], [0.3333333333333333, \"#9c179e\"], [0.4444444444444444, \"#bd3786\"], [0.5555555555555556, \"#d8576b\"], [0.6666666666666666, \"#ed7953\"], [0.7777777777777778, \"#fb9f3a\"], [0.8888888888888888, \"#fdca26\"], [1.0, \"#f0f921\"]], \"type\": \"histogram2dcontour\"}], \"mesh3d\": [{\"colorbar\": {\"outlinewidth\": 0, \"ticks\": \"\"}, \"type\": \"mesh3d\"}], \"parcoords\": [{\"line\": {\"colorbar\": {\"outlinewidth\": 0, \"ticks\": \"\"}}, \"type\": \"parcoords\"}], \"pie\": [{\"automargin\": true, \"type\": \"pie\"}], \"scatter\": [{\"marker\": {\"colorbar\": {\"outlinewidth\": 0, \"ticks\": \"\"}}, \"type\": \"scatter\"}], \"scatter3d\": [{\"line\": {\"colorbar\": {\"outlinewidth\": 0, \"ticks\": \"\"}}, \"marker\": {\"colorbar\": {\"outlinewidth\": 0, \"ticks\": \"\"}}, \"type\": \"scatter3d\"}], \"scattercarpet\": [{\"marker\": {\"colorbar\": {\"outlinewidth\": 0, \"ticks\": \"\"}}, \"type\": \"scattercarpet\"}], \"scattergeo\": [{\"marker\": {\"colorbar\": {\"outlinewidth\": 0, \"ticks\": \"\"}}, \"type\": \"scattergeo\"}], \"scattergl\": [{\"marker\": {\"colorbar\": {\"outlinewidth\": 0, \"ticks\": \"\"}}, \"type\": \"scattergl\"}], \"scattermapbox\": [{\"marker\": {\"colorbar\": {\"outlinewidth\": 0, \"ticks\": \"\"}}, \"type\": \"scattermapbox\"}], \"scatterpolar\": [{\"marker\": {\"colorbar\": {\"outlinewidth\": 0, \"ticks\": \"\"}}, \"type\": \"scatterpolar\"}], \"scatterpolargl\": [{\"marker\": {\"colorbar\": {\"outlinewidth\": 0, \"ticks\": \"\"}}, \"type\": \"scatterpolargl\"}], \"scatterternary\": [{\"marker\": {\"colorbar\": {\"outlinewidth\": 0, \"ticks\": \"\"}}, \"type\": \"scatterternary\"}], \"surface\": [{\"colorbar\": {\"outlinewidth\": 0, \"ticks\": \"\"}, \"colorscale\": [[0.0, \"#0d0887\"], [0.1111111111111111, \"#46039f\"], [0.2222222222222222, \"#7201a8\"], [0.3333333333333333, \"#9c179e\"], [0.4444444444444444, \"#bd3786\"], [0.5555555555555556, \"#d8576b\"], [0.6666666666666666, \"#ed7953\"], [0.7777777777777778, \"#fb9f3a\"], [0.8888888888888888, \"#fdca26\"], [1.0, \"#f0f921\"]], \"type\": \"surface\"}], \"table\": [{\"cells\": {\"fill\": {\"color\": \"#EBF0F8\"}, \"line\": {\"color\": \"white\"}}, \"header\": {\"fill\": {\"color\": \"#C8D4E3\"}, \"line\": {\"color\": \"white\"}}, \"type\": \"table\"}]}, \"layout\": {\"annotationdefaults\": {\"arrowcolor\": \"#2a3f5f\", \"arrowhead\": 0, \"arrowwidth\": 1}, \"coloraxis\": {\"colorbar\": {\"outlinewidth\": 0, \"ticks\": \"\"}}, \"colorscale\": {\"diverging\": [[0, \"#8e0152\"], [0.1, \"#c51b7d\"], [0.2, \"#de77ae\"], [0.3, \"#f1b6da\"], [0.4, \"#fde0ef\"], [0.5, \"#f7f7f7\"], [0.6, \"#e6f5d0\"], [0.7, \"#b8e186\"], [0.8, \"#7fbc41\"], [0.9, \"#4d9221\"], [1, \"#276419\"]], \"sequential\": [[0.0, \"#0d0887\"], [0.1111111111111111, \"#46039f\"], [0.2222222222222222, \"#7201a8\"], [0.3333333333333333, \"#9c179e\"], [0.4444444444444444, \"#bd3786\"], [0.5555555555555556, \"#d8576b\"], [0.6666666666666666, \"#ed7953\"], [0.7777777777777778, \"#fb9f3a\"], [0.8888888888888888, \"#fdca26\"], [1.0, \"#f0f921\"]], \"sequentialminus\": [[0.0, \"#0d0887\"], [0.1111111111111111, \"#46039f\"], [0.2222222222222222, \"#7201a8\"], [0.3333333333333333, \"#9c179e\"], [0.4444444444444444, \"#bd3786\"], [0.5555555555555556, \"#d8576b\"], [0.6666666666666666, \"#ed7953\"], [0.7777777777777778, \"#fb9f3a\"], [0.8888888888888888, \"#fdca26\"], [1.0, \"#f0f921\"]]}, \"colorway\": [\"#636efa\", \"#EF553B\", \"#00cc96\", \"#ab63fa\", \"#FFA15A\", \"#19d3f3\", \"#FF6692\", \"#B6E880\", \"#FF97FF\", \"#FECB52\"], \"font\": {\"color\": \"#2a3f5f\"}, \"geo\": {\"bgcolor\": \"white\", \"lakecolor\": \"white\", \"landcolor\": \"#E5ECF6\", \"showlakes\": true, \"showland\": true, \"subunitcolor\": \"white\"}, \"hoverlabel\": {\"align\": \"left\"}, \"hovermode\": \"closest\", \"mapbox\": {\"style\": \"light\"}, \"paper_bgcolor\": \"white\", \"plot_bgcolor\": \"#E5ECF6\", \"polar\": {\"angularaxis\": {\"gridcolor\": \"white\", \"linecolor\": \"white\", \"ticks\": \"\"}, \"bgcolor\": \"#E5ECF6\", \"radialaxis\": {\"gridcolor\": \"white\", \"linecolor\": \"white\", \"ticks\": \"\"}}, \"scene\": {\"xaxis\": {\"backgroundcolor\": \"#E5ECF6\", \"gridcolor\": \"white\", \"gridwidth\": 2, \"linecolor\": \"white\", \"showbackground\": true, \"ticks\": \"\", \"zerolinecolor\": \"white\"}, \"yaxis\": {\"backgroundcolor\": \"#E5ECF6\", \"gridcolor\": \"white\", \"gridwidth\": 2, \"linecolor\": \"white\", \"showbackground\": true, \"ticks\": \"\", \"zerolinecolor\": \"white\"}, \"zaxis\": {\"backgroundcolor\": \"#E5ECF6\", \"gridcolor\": \"white\", \"gridwidth\": 2, \"linecolor\": \"white\", \"showbackground\": true, \"ticks\": \"\", \"zerolinecolor\": \"white\"}}, \"shapedefaults\": {\"line\": {\"color\": \"#2a3f5f\"}}, \"ternary\": {\"aaxis\": {\"gridcolor\": \"white\", \"linecolor\": \"white\", \"ticks\": \"\"}, \"baxis\": {\"gridcolor\": \"white\", \"linecolor\": \"white\", \"ticks\": \"\"}, \"bgcolor\": \"#E5ECF6\", \"caxis\": {\"gridcolor\": \"white\", \"linecolor\": \"white\", \"ticks\": \"\"}}, \"title\": {\"x\": 0.05}, \"xaxis\": {\"automargin\": true, \"gridcolor\": \"white\", \"linecolor\": \"white\", \"ticks\": \"\", \"title\": {\"standoff\": 15}, \"zerolinecolor\": \"white\", \"zerolinewidth\": 2}, \"yaxis\": {\"automargin\": true, \"gridcolor\": \"white\", \"linecolor\": \"white\", \"ticks\": \"\", \"title\": {\"standoff\": 15}, \"zerolinecolor\": \"white\", \"zerolinewidth\": 2}}}, \"title\": {\"text\": \"Matriz de Dispers\\u00e3o dos Indicadores\"}, \"width\": 800, \"xaxis\": {\"anchor\": \"y\", \"domain\": [0.0, 1.0], \"title\": {\"text\": \"Cobertura Florestal (% da Area)\"}}, \"yaxis\": {\"anchor\": \"x\", \"domain\": [0.0, 1.0], \"title\": {\"text\": \"Dias em Situa\\u00e7\\u00e3o Anromal\"}}},\n",
              "                        {\"responsive\": true}\n",
              "                    ).then(function(){\n",
              "                            \n",
              "var gd = document.getElementById('1461adff-a199-4032-8bd2-327842bdd31b');\n",
              "var x = new MutationObserver(function (mutations, observer) {{\n",
              "        var display = window.getComputedStyle(gd).display;\n",
              "        if (!display || display === 'none') {{\n",
              "            console.log([gd, 'removed!']);\n",
              "            Plotly.purge(gd);\n",
              "            observer.disconnect();\n",
              "        }}\n",
              "}});\n",
              "\n",
              "// Listen for the removal of the full notebook cells\n",
              "var notebookContainer = gd.closest('#notebook-container');\n",
              "if (notebookContainer) {{\n",
              "    x.observe(notebookContainer, {childList: true});\n",
              "}}\n",
              "\n",
              "// Listen for the clearing of the current output cell\n",
              "var outputEl = gd.closest('.output');\n",
              "if (outputEl) {{\n",
              "    x.observe(outputEl, {childList: true});\n",
              "}}\n",
              "\n",
              "                        })\n",
              "                };\n",
              "                \n",
              "            </script>\n",
              "        </div>\n",
              "</body>\n",
              "</html>"
            ]
          },
          "metadata": {}
        }
      ]
    },
    {
      "cell_type": "code",
      "metadata": {
        "id": "10SV_svIkGkE"
      },
      "source": [
        "df2_matriz =df_matriz.drop('Municipio', axis=1)"
      ],
      "execution_count": 11,
      "outputs": []
    },
    {
      "cell_type": "code",
      "metadata": {
        "id": "DMRV1v-h1Zlo"
      },
      "source": [
        "#NORMALIZANDO OS VALORES ENTRE 0 E 1\n",
        "import pandas as pd\n",
        "from sklearn import preprocessing\n",
        "\n",
        "#df_normal=(df2_matriz-df2_matriz.mean())/df2_matriz.std()\n",
        "df_normal=(df2_matriz-df2_matriz.min())/(df2_matriz.max()-df2_matriz.min())"
      ],
      "execution_count": 12,
      "outputs": []
    },
    {
      "cell_type": "code",
      "metadata": {
        "colab": {
          "base_uri": "https://localhost:8080/",
          "height": 419
        },
        "id": "h9VVIvE43f4s",
        "outputId": "b4a2c35f-23ee-470e-993c-ad0bf90fa35f"
      },
      "source": [
        "df_normal"
      ],
      "execution_count": 13,
      "outputs": [
        {
          "output_type": "execute_result",
          "data": {
            "text/html": [
              "<div>\n",
              "<style scoped>\n",
              "    .dataframe tbody tr th:only-of-type {\n",
              "        vertical-align: middle;\n",
              "    }\n",
              "\n",
              "    .dataframe tbody tr th {\n",
              "        vertical-align: top;\n",
              "    }\n",
              "\n",
              "    .dataframe thead th {\n",
              "        text-align: right;\n",
              "    }\n",
              "</style>\n",
              "<table border=\"1\" class=\"dataframe\">\n",
              "  <thead>\n",
              "    <tr style=\"text-align: right;\">\n",
              "      <th></th>\n",
              "      <th>Dias_eventos_extremos</th>\n",
              "      <th>Cobertura_florestal_%</th>\n",
              "    </tr>\n",
              "  </thead>\n",
              "  <tbody>\n",
              "    <tr>\n",
              "      <th>0</th>\n",
              "      <td>0.20</td>\n",
              "      <td>0.359567</td>\n",
              "    </tr>\n",
              "    <tr>\n",
              "      <th>1</th>\n",
              "      <td>0.35</td>\n",
              "      <td>0.182591</td>\n",
              "    </tr>\n",
              "    <tr>\n",
              "      <th>2</th>\n",
              "      <td>0.45</td>\n",
              "      <td>0.254830</td>\n",
              "    </tr>\n",
              "    <tr>\n",
              "      <th>3</th>\n",
              "      <td>0.75</td>\n",
              "      <td>0.230802</td>\n",
              "    </tr>\n",
              "    <tr>\n",
              "      <th>4</th>\n",
              "      <td>0.55</td>\n",
              "      <td>0.849185</td>\n",
              "    </tr>\n",
              "    <tr>\n",
              "      <th>...</th>\n",
              "      <td>...</td>\n",
              "      <td>...</td>\n",
              "    </tr>\n",
              "    <tr>\n",
              "      <th>73</th>\n",
              "      <td>0.25</td>\n",
              "      <td>0.618716</td>\n",
              "    </tr>\n",
              "    <tr>\n",
              "      <th>74</th>\n",
              "      <td>0.65</td>\n",
              "      <td>0.194577</td>\n",
              "    </tr>\n",
              "    <tr>\n",
              "      <th>75</th>\n",
              "      <td>0.35</td>\n",
              "      <td>0.246574</td>\n",
              "    </tr>\n",
              "    <tr>\n",
              "      <th>76</th>\n",
              "      <td>0.25</td>\n",
              "      <td>0.189144</td>\n",
              "    </tr>\n",
              "    <tr>\n",
              "      <th>77</th>\n",
              "      <td>0.45</td>\n",
              "      <td>0.404411</td>\n",
              "    </tr>\n",
              "  </tbody>\n",
              "</table>\n",
              "<p>78 rows × 2 columns</p>\n",
              "</div>"
            ],
            "text/plain": [
              "    Dias_eventos_extremos  Cobertura_florestal_%\n",
              "0                    0.20               0.359567\n",
              "1                    0.35               0.182591\n",
              "2                    0.45               0.254830\n",
              "3                    0.75               0.230802\n",
              "4                    0.55               0.849185\n",
              "..                    ...                    ...\n",
              "73                   0.25               0.618716\n",
              "74                   0.65               0.194577\n",
              "75                   0.35               0.246574\n",
              "76                   0.25               0.189144\n",
              "77                   0.45               0.404411\n",
              "\n",
              "[78 rows x 2 columns]"
            ]
          },
          "metadata": {},
          "execution_count": 13
        }
      ]
    },
    {
      "cell_type": "code",
      "metadata": {
        "id": "ZcgMVoS07G9V"
      },
      "source": [
        "df2_normal_labels =df_normal.assign(Municipios=6)"
      ],
      "execution_count": 15,
      "outputs": []
    },
    {
      "cell_type": "code",
      "metadata": {
        "id": "Y3dlJdTEkbLB"
      },
      "source": [
        "vector = df_normal.values"
      ],
      "execution_count": 16,
      "outputs": []
    },
    {
      "cell_type": "code",
      "metadata": {
        "colab": {
          "base_uri": "https://localhost:8080/",
          "height": 562
        },
        "id": "x96nerblpjNN",
        "outputId": "862be49f-7c00-4946-f37d-39db1866c088"
      },
      "source": [
        "import plotly.express as px\n",
        "fig  = px.scatter(df_normal, x = 'Cobertura_florestal_%',opacity=0.5, y = 'Dias_eventos_extremos', log_y = False, width = 800)\n",
        "fig.update_traces(marker = dict(size = 12, line=dict(width = 2)), selector = dict(mode = 'markers'))\n",
        "fig.update_layout(title = 'Matriz de Dispersão dos Indicadores')\n",
        "fig.update_xaxes(title = 'Cobertura Florestal (% da Area)')\n",
        "fig.update_yaxes(title = 'Dias em Situação Anromal')\n",
        "fig.show()"
      ],
      "execution_count": 17,
      "outputs": [
        {
          "output_type": "display_data",
          "data": {
            "text/html": [
              "<html>\n",
              "<head><meta charset=\"utf-8\" /></head>\n",
              "<body>\n",
              "    <div>\n",
              "            <script src=\"https://cdnjs.cloudflare.com/ajax/libs/mathjax/2.7.5/MathJax.js?config=TeX-AMS-MML_SVG\"></script><script type=\"text/javascript\">if (window.MathJax) {MathJax.Hub.Config({SVG: {font: \"STIX-Web\"}});}</script>\n",
              "                <script type=\"text/javascript\">window.PlotlyConfig = {MathJaxConfig: 'local'};</script>\n",
              "        <script src=\"https://cdn.plot.ly/plotly-latest.min.js\"></script>    \n",
              "            <div id=\"f2923318-3be3-43f3-8e9e-8f87b2f3377e\" class=\"plotly-graph-div\" style=\"height:525px; width:800px;\"></div>\n",
              "            <script type=\"text/javascript\">\n",
              "                \n",
              "                    window.PLOTLYENV=window.PLOTLYENV || {};\n",
              "                    \n",
              "                if (document.getElementById(\"f2923318-3be3-43f3-8e9e-8f87b2f3377e\")) {\n",
              "                    Plotly.newPlot(\n",
              "                        'f2923318-3be3-43f3-8e9e-8f87b2f3377e',\n",
              "                        [{\"hoverlabel\": {\"namelength\": 0}, \"hovertemplate\": \"Cobertura_florestal_%=%{x}<br>Dias_eventos_extremos=%{y}\", \"legendgroup\": \"\", \"marker\": {\"color\": \"#636efa\", \"line\": {\"width\": 2}, \"opacity\": 0.5, \"size\": 12, \"symbol\": \"circle\"}, \"mode\": \"markers\", \"name\": \"\", \"showlegend\": false, \"type\": \"scatter\", \"x\": [0.3595668488858559, 0.1825913415874549, 0.25483025664240394, 0.23080163580544036, 0.8491852800282925, 0.1253583173728776, 0.32294404453810394, 0.17044186958887436, 0.35911061639654285, 0.3302656142638712, 0.22650308561377494, 0.22677552798722025, 0.12983408901731447, 0.21238034097552982, 0.2416397952185381, 0.29658476729856575, 0.6106142357983793, 0.4655614478688503, 0.23811259375046392, 0.42237376313067276, 0.5514903929519511, 0.5402815957134278, 0.7898665750747489, 0.3908254171495612, 0.09094512284049895, 0.3854275856987219, 0.3145908108233132, 0.23517928159070497, 0.6708273834382259, 0.18592497851754206, 0.4930080857930438, 0.6220071082587897, 0.22958085672827833, 0.22258556502520851, 0.37896755473068566, 0.15316303049820174, 0.45392190257828985, 0.40152657077315024, 0.38085873928601033, 0.18453536953328653, 0.27058624795065733, 0.4525159392841722, 0.4836817627842084, 0.10192858979161194, 0.0, 1.0, 0.3430362043180995, 0.3008829493218281, 0.06040344131586134, 0.04160829392178503, 0.38238103706075416, 0.3635706331272375, 0.18847194508164827, 0.2741887937354907, 0.04589162124794949, 0.10321455263557626, 0.04650384713868799, 0.023253377161057884, 0.17620793005601326, 0.2813391606639072, 0.29299981726949076, 0.9373196571133617, 0.780356767260429, 0.7007130831553754, 0.16297606540129145, 0.2581739867745693, 0.26393719169165414, 0.23449198750950973, 0.2628632444594937, 0.3354480627089747, 0.9975014879896428, 0.7355054372647563, 0.6023448569272779, 0.6187160194734954, 0.1945767608884666, 0.2465738804017379, 0.18914405670606968, 0.40441148001253363], \"xaxis\": \"x\", \"y\": [0.2, 0.35, 0.45, 0.75, 0.55, 0.25, 0.05, 0.2, 0.25, 0.1, 0.25, 0.35, 0.35, 0.5, 0.05, 0.65, 0.8, 0.85, 0.7, 0.35, 0.25, 0.05, 1.0, 0.15, 0.2, 0.05, 0.45, 0.45, 0.6, 0.15, 0.3, 0.4, 0.05, 0.5, 0.05, 0.75, 0.4, 0.4, 0.15, 0.45, 0.3, 0.35, 0.1, 0.3, 0.15, 0.05, 0.45, 0.45, 0.7666666666666667, 0.65, 0.35, 0.6, 0.0, 0.55, 0.5, 0.45, 0.35, 0.05, 0.25, 0.25, 0.35, 0.55, 0.2, 0.15, 0.5, 0.6, 0.35, 0.4, 0.95, 0.75, 0.1, 0.15, 0.7, 0.25, 0.65, 0.35, 0.25, 0.45], \"yaxis\": \"y\"}],\n",
              "                        {\"legend\": {\"tracegroupgap\": 0}, \"margin\": {\"t\": 60}, \"template\": {\"data\": {\"bar\": [{\"error_x\": {\"color\": \"#2a3f5f\"}, \"error_y\": {\"color\": \"#2a3f5f\"}, \"marker\": {\"line\": {\"color\": \"#E5ECF6\", \"width\": 0.5}}, \"type\": \"bar\"}], \"barpolar\": [{\"marker\": {\"line\": {\"color\": \"#E5ECF6\", \"width\": 0.5}}, \"type\": \"barpolar\"}], \"carpet\": [{\"aaxis\": {\"endlinecolor\": \"#2a3f5f\", \"gridcolor\": \"white\", \"linecolor\": \"white\", \"minorgridcolor\": \"white\", \"startlinecolor\": \"#2a3f5f\"}, \"baxis\": {\"endlinecolor\": \"#2a3f5f\", \"gridcolor\": \"white\", \"linecolor\": \"white\", \"minorgridcolor\": \"white\", \"startlinecolor\": \"#2a3f5f\"}, \"type\": \"carpet\"}], \"choropleth\": [{\"colorbar\": {\"outlinewidth\": 0, \"ticks\": \"\"}, \"type\": \"choropleth\"}], \"contour\": [{\"colorbar\": {\"outlinewidth\": 0, \"ticks\": \"\"}, \"colorscale\": [[0.0, \"#0d0887\"], [0.1111111111111111, \"#46039f\"], [0.2222222222222222, \"#7201a8\"], [0.3333333333333333, \"#9c179e\"], [0.4444444444444444, \"#bd3786\"], [0.5555555555555556, \"#d8576b\"], [0.6666666666666666, \"#ed7953\"], [0.7777777777777778, \"#fb9f3a\"], [0.8888888888888888, \"#fdca26\"], [1.0, \"#f0f921\"]], \"type\": \"contour\"}], \"contourcarpet\": [{\"colorbar\": {\"outlinewidth\": 0, \"ticks\": \"\"}, \"type\": \"contourcarpet\"}], \"heatmap\": [{\"colorbar\": {\"outlinewidth\": 0, \"ticks\": \"\"}, \"colorscale\": [[0.0, \"#0d0887\"], [0.1111111111111111, \"#46039f\"], [0.2222222222222222, \"#7201a8\"], [0.3333333333333333, \"#9c179e\"], [0.4444444444444444, \"#bd3786\"], [0.5555555555555556, \"#d8576b\"], [0.6666666666666666, \"#ed7953\"], [0.7777777777777778, \"#fb9f3a\"], [0.8888888888888888, \"#fdca26\"], [1.0, \"#f0f921\"]], \"type\": \"heatmap\"}], \"heatmapgl\": [{\"colorbar\": {\"outlinewidth\": 0, \"ticks\": \"\"}, \"colorscale\": [[0.0, \"#0d0887\"], [0.1111111111111111, \"#46039f\"], [0.2222222222222222, \"#7201a8\"], [0.3333333333333333, \"#9c179e\"], [0.4444444444444444, \"#bd3786\"], [0.5555555555555556, \"#d8576b\"], [0.6666666666666666, \"#ed7953\"], [0.7777777777777778, \"#fb9f3a\"], [0.8888888888888888, \"#fdca26\"], [1.0, \"#f0f921\"]], \"type\": \"heatmapgl\"}], \"histogram\": [{\"marker\": {\"colorbar\": {\"outlinewidth\": 0, \"ticks\": \"\"}}, \"type\": \"histogram\"}], \"histogram2d\": [{\"colorbar\": {\"outlinewidth\": 0, \"ticks\": \"\"}, \"colorscale\": [[0.0, \"#0d0887\"], [0.1111111111111111, \"#46039f\"], [0.2222222222222222, \"#7201a8\"], [0.3333333333333333, \"#9c179e\"], [0.4444444444444444, \"#bd3786\"], [0.5555555555555556, \"#d8576b\"], [0.6666666666666666, \"#ed7953\"], [0.7777777777777778, \"#fb9f3a\"], [0.8888888888888888, \"#fdca26\"], [1.0, \"#f0f921\"]], \"type\": \"histogram2d\"}], \"histogram2dcontour\": [{\"colorbar\": {\"outlinewidth\": 0, \"ticks\": \"\"}, \"colorscale\": [[0.0, \"#0d0887\"], [0.1111111111111111, \"#46039f\"], [0.2222222222222222, \"#7201a8\"], [0.3333333333333333, \"#9c179e\"], [0.4444444444444444, \"#bd3786\"], [0.5555555555555556, \"#d8576b\"], [0.6666666666666666, \"#ed7953\"], [0.7777777777777778, \"#fb9f3a\"], [0.8888888888888888, \"#fdca26\"], [1.0, \"#f0f921\"]], \"type\": \"histogram2dcontour\"}], \"mesh3d\": [{\"colorbar\": {\"outlinewidth\": 0, \"ticks\": \"\"}, \"type\": \"mesh3d\"}], \"parcoords\": [{\"line\": {\"colorbar\": {\"outlinewidth\": 0, \"ticks\": \"\"}}, \"type\": \"parcoords\"}], \"pie\": [{\"automargin\": true, \"type\": \"pie\"}], \"scatter\": [{\"marker\": {\"colorbar\": {\"outlinewidth\": 0, \"ticks\": \"\"}}, \"type\": \"scatter\"}], \"scatter3d\": [{\"line\": {\"colorbar\": {\"outlinewidth\": 0, \"ticks\": \"\"}}, \"marker\": {\"colorbar\": {\"outlinewidth\": 0, \"ticks\": \"\"}}, \"type\": \"scatter3d\"}], \"scattercarpet\": [{\"marker\": {\"colorbar\": {\"outlinewidth\": 0, \"ticks\": \"\"}}, \"type\": \"scattercarpet\"}], \"scattergeo\": [{\"marker\": {\"colorbar\": {\"outlinewidth\": 0, \"ticks\": \"\"}}, \"type\": \"scattergeo\"}], \"scattergl\": [{\"marker\": {\"colorbar\": {\"outlinewidth\": 0, \"ticks\": \"\"}}, \"type\": \"scattergl\"}], \"scattermapbox\": [{\"marker\": {\"colorbar\": {\"outlinewidth\": 0, \"ticks\": \"\"}}, \"type\": \"scattermapbox\"}], \"scatterpolar\": [{\"marker\": {\"colorbar\": {\"outlinewidth\": 0, \"ticks\": \"\"}}, \"type\": \"scatterpolar\"}], \"scatterpolargl\": [{\"marker\": {\"colorbar\": {\"outlinewidth\": 0, \"ticks\": \"\"}}, \"type\": \"scatterpolargl\"}], \"scatterternary\": [{\"marker\": {\"colorbar\": {\"outlinewidth\": 0, \"ticks\": \"\"}}, \"type\": \"scatterternary\"}], \"surface\": [{\"colorbar\": {\"outlinewidth\": 0, \"ticks\": \"\"}, \"colorscale\": [[0.0, \"#0d0887\"], [0.1111111111111111, \"#46039f\"], [0.2222222222222222, \"#7201a8\"], [0.3333333333333333, \"#9c179e\"], [0.4444444444444444, \"#bd3786\"], [0.5555555555555556, \"#d8576b\"], [0.6666666666666666, \"#ed7953\"], [0.7777777777777778, \"#fb9f3a\"], [0.8888888888888888, \"#fdca26\"], [1.0, \"#f0f921\"]], \"type\": \"surface\"}], \"table\": [{\"cells\": {\"fill\": {\"color\": \"#EBF0F8\"}, \"line\": {\"color\": \"white\"}}, \"header\": {\"fill\": {\"color\": \"#C8D4E3\"}, \"line\": {\"color\": \"white\"}}, \"type\": \"table\"}]}, \"layout\": {\"annotationdefaults\": {\"arrowcolor\": \"#2a3f5f\", \"arrowhead\": 0, \"arrowwidth\": 1}, \"coloraxis\": {\"colorbar\": {\"outlinewidth\": 0, \"ticks\": \"\"}}, \"colorscale\": {\"diverging\": [[0, \"#8e0152\"], [0.1, \"#c51b7d\"], [0.2, \"#de77ae\"], [0.3, \"#f1b6da\"], [0.4, \"#fde0ef\"], [0.5, \"#f7f7f7\"], [0.6, \"#e6f5d0\"], [0.7, \"#b8e186\"], [0.8, \"#7fbc41\"], [0.9, \"#4d9221\"], [1, \"#276419\"]], \"sequential\": [[0.0, \"#0d0887\"], [0.1111111111111111, \"#46039f\"], [0.2222222222222222, \"#7201a8\"], [0.3333333333333333, \"#9c179e\"], [0.4444444444444444, \"#bd3786\"], [0.5555555555555556, \"#d8576b\"], [0.6666666666666666, \"#ed7953\"], [0.7777777777777778, \"#fb9f3a\"], [0.8888888888888888, \"#fdca26\"], [1.0, \"#f0f921\"]], \"sequentialminus\": [[0.0, \"#0d0887\"], [0.1111111111111111, \"#46039f\"], [0.2222222222222222, \"#7201a8\"], [0.3333333333333333, \"#9c179e\"], [0.4444444444444444, \"#bd3786\"], [0.5555555555555556, \"#d8576b\"], [0.6666666666666666, \"#ed7953\"], [0.7777777777777778, \"#fb9f3a\"], [0.8888888888888888, \"#fdca26\"], [1.0, \"#f0f921\"]]}, \"colorway\": [\"#636efa\", \"#EF553B\", \"#00cc96\", \"#ab63fa\", \"#FFA15A\", \"#19d3f3\", \"#FF6692\", \"#B6E880\", \"#FF97FF\", \"#FECB52\"], \"font\": {\"color\": \"#2a3f5f\"}, \"geo\": {\"bgcolor\": \"white\", \"lakecolor\": \"white\", \"landcolor\": \"#E5ECF6\", \"showlakes\": true, \"showland\": true, \"subunitcolor\": \"white\"}, \"hoverlabel\": {\"align\": \"left\"}, \"hovermode\": \"closest\", \"mapbox\": {\"style\": \"light\"}, \"paper_bgcolor\": \"white\", \"plot_bgcolor\": \"#E5ECF6\", \"polar\": {\"angularaxis\": {\"gridcolor\": \"white\", \"linecolor\": \"white\", \"ticks\": \"\"}, \"bgcolor\": \"#E5ECF6\", \"radialaxis\": {\"gridcolor\": \"white\", \"linecolor\": \"white\", \"ticks\": \"\"}}, \"scene\": {\"xaxis\": {\"backgroundcolor\": \"#E5ECF6\", \"gridcolor\": \"white\", \"gridwidth\": 2, \"linecolor\": \"white\", \"showbackground\": true, \"ticks\": \"\", \"zerolinecolor\": \"white\"}, \"yaxis\": {\"backgroundcolor\": \"#E5ECF6\", \"gridcolor\": \"white\", \"gridwidth\": 2, \"linecolor\": \"white\", \"showbackground\": true, \"ticks\": \"\", \"zerolinecolor\": \"white\"}, \"zaxis\": {\"backgroundcolor\": \"#E5ECF6\", \"gridcolor\": \"white\", \"gridwidth\": 2, \"linecolor\": \"white\", \"showbackground\": true, \"ticks\": \"\", \"zerolinecolor\": \"white\"}}, \"shapedefaults\": {\"line\": {\"color\": \"#2a3f5f\"}}, \"ternary\": {\"aaxis\": {\"gridcolor\": \"white\", \"linecolor\": \"white\", \"ticks\": \"\"}, \"baxis\": {\"gridcolor\": \"white\", \"linecolor\": \"white\", \"ticks\": \"\"}, \"bgcolor\": \"#E5ECF6\", \"caxis\": {\"gridcolor\": \"white\", \"linecolor\": \"white\", \"ticks\": \"\"}}, \"title\": {\"x\": 0.05}, \"xaxis\": {\"automargin\": true, \"gridcolor\": \"white\", \"linecolor\": \"white\", \"ticks\": \"\", \"title\": {\"standoff\": 15}, \"zerolinecolor\": \"white\", \"zerolinewidth\": 2}, \"yaxis\": {\"automargin\": true, \"gridcolor\": \"white\", \"linecolor\": \"white\", \"ticks\": \"\", \"title\": {\"standoff\": 15}, \"zerolinecolor\": \"white\", \"zerolinewidth\": 2}}}, \"title\": {\"text\": \"Matriz de Dispers\\u00e3o dos Indicadores\"}, \"width\": 800, \"xaxis\": {\"anchor\": \"y\", \"domain\": [0.0, 1.0], \"title\": {\"text\": \"Cobertura Florestal (% da Area)\"}}, \"yaxis\": {\"anchor\": \"x\", \"domain\": [0.0, 1.0], \"title\": {\"text\": \"Dias em Situa\\u00e7\\u00e3o Anromal\"}}},\n",
              "                        {\"responsive\": true}\n",
              "                    ).then(function(){\n",
              "                            \n",
              "var gd = document.getElementById('f2923318-3be3-43f3-8e9e-8f87b2f3377e');\n",
              "var x = new MutationObserver(function (mutations, observer) {{\n",
              "        var display = window.getComputedStyle(gd).display;\n",
              "        if (!display || display === 'none') {{\n",
              "            console.log([gd, 'removed!']);\n",
              "            Plotly.purge(gd);\n",
              "            observer.disconnect();\n",
              "        }}\n",
              "}});\n",
              "\n",
              "// Listen for the removal of the full notebook cells\n",
              "var notebookContainer = gd.closest('#notebook-container');\n",
              "if (notebookContainer) {{\n",
              "    x.observe(notebookContainer, {childList: true});\n",
              "}}\n",
              "\n",
              "// Listen for the clearing of the current output cell\n",
              "var outputEl = gd.closest('.output');\n",
              "if (outputEl) {{\n",
              "    x.observe(outputEl, {childList: true});\n",
              "}}\n",
              "\n",
              "                        })\n",
              "                };\n",
              "                \n",
              "            </script>\n",
              "        </div>\n",
              "</body>\n",
              "</html>"
            ]
          },
          "metadata": {}
        }
      ]
    },
    {
      "cell_type": "markdown",
      "metadata": {
        "id": "q3z2XTGwFnJm"
      },
      "source": [
        "Preparando o Data Frame para o modelo"
      ]
    },
    {
      "cell_type": "markdown",
      "metadata": {
        "id": "7GGgF4J4Fa4K"
      },
      "source": [
        "KMEANS\n",
        "Vamos aplicar o primeiro modelo de classificação: o k-nearest neighbors!"
      ]
    },
    {
      "cell_type": "code",
      "metadata": {
        "id": "Xoj9gnu5vkA1"
      },
      "source": [
        "import numpy as np #para manipular os vetores\n",
        "from matplotlib import pyplot as plt #para plotar os gráficos\n",
        "from sklearn.cluster import KMeans #para usar o KMeans"
      ],
      "execution_count": 18,
      "outputs": []
    },
    {
      "cell_type": "code",
      "metadata": {
        "colab": {
          "base_uri": "https://localhost:8080/",
          "height": 268
        },
        "id": "x9FjC0kDuqgk",
        "outputId": "3b4ca3cf-ae2c-442d-d7c2-2e82dfad106a"
      },
      "source": [
        "kmeans = KMeans(n_clusters = 5, #numero de clusters\n",
        "init = 'k-means++', n_init = 10, #algoritmo que define a posição dos clusters de maneira mais assertiva\n",
        "max_iter = 300) #numero máximo de iterações\n",
        "pred_y = kmeans.fit_predict(vector)\n",
        "plt.scatter(vector[:,0], vector[:,1], c = pred_y) #posicionamento dos eixos x e y\n",
        "plt.xlim(-0.1, 1.1) #range do eixo x\n",
        "plt.ylim(-0.1, 1.1) #range do eixo y\n",
        "plt.grid() #função que desenha a grade no nosso gráfico\n",
        "plt.scatter(kmeans.cluster_centers_[:,1],kmeans.cluster_centers_[:,0], s = 70, c = 'red') #posição de cada centroide no gráfico\n",
        "plt.show()"
      ],
      "execution_count": 19,
      "outputs": [
        {
          "output_type": "display_data",
          "data": {
            "image/png": "[encoded data removed]",
            "text/plain": [
              "<Figure size 432x288 with 1 Axes>"
            ]
          },
          "metadata": {}
        }
      ]
    },
    {
      "cell_type": "code",
      "metadata": {
        "colab": {
          "base_uri": "https://localhost:8080/"
        },
        "id": "c81_EzeK0p8X",
        "outputId": "932db71d-b4df-4898-e315-41ae1b66db47"
      },
      "source": [
        "print(vector)"
      ],
      "execution_count": 22,
      "outputs": [
        {
          "output_type": "stream",
          "text": [
            "[[0.2        0.35956685]\n",
            " [0.35       0.18259134]\n",
            " [0.45       0.25483026]\n",
            " [0.75       0.23080164]\n",
            " [0.55       0.84918528]\n",
            " [0.25       0.12535832]\n",
            " [0.05       0.32294404]\n",
            " [0.2        0.17044187]\n",
            " [0.25       0.35911062]\n",
            " [0.1        0.33026561]\n",
            " [0.25       0.22650309]\n",
            " [0.35       0.22677553]\n",
            " [0.35       0.12983409]\n",
            " [0.5        0.21238034]\n",
            " [0.05       0.2416398 ]\n",
            " [0.65       0.29658477]\n",
            " [0.8        0.61061424]\n",
            " [0.85       0.46556145]\n",
            " [0.7        0.23811259]\n",
            " [0.35       0.42237376]\n",
            " [0.25       0.55149039]\n",
            " [0.05       0.5402816 ]\n",
            " [1.         0.78986658]\n",
            " [0.15       0.39082542]\n",
            " [0.2        0.09094512]\n",
            " [0.05       0.38542759]\n",
            " [0.45       0.31459081]\n",
            " [0.45       0.23517928]\n",
            " [0.6        0.67082738]\n",
            " [0.15       0.18592498]\n",
            " [0.3        0.49300809]\n",
            " [0.4        0.62200711]\n",
            " [0.05       0.22958086]\n",
            " [0.5        0.22258557]\n",
            " [0.05       0.37896755]\n",
            " [0.75       0.15316303]\n",
            " [0.4        0.4539219 ]\n",
            " [0.4        0.40152657]\n",
            " [0.15       0.38085874]\n",
            " [0.45       0.18453537]\n",
            " [0.3        0.27058625]\n",
            " [0.35       0.45251594]\n",
            " [0.1        0.48368176]\n",
            " [0.3        0.10192859]\n",
            " [0.15       0.        ]\n",
            " [0.05       1.        ]\n",
            " [0.45       0.3430362 ]\n",
            " [0.45       0.30088295]\n",
            " [0.76666667 0.06040344]\n",
            " [0.65       0.04160829]\n",
            " [0.35       0.38238104]\n",
            " [0.6        0.36357063]\n",
            " [0.         0.18847195]\n",
            " [0.55       0.27418879]\n",
            " [0.5        0.04589162]\n",
            " [0.45       0.10321455]\n",
            " [0.35       0.04650385]\n",
            " [0.05       0.02325338]\n",
            " [0.25       0.17620793]\n",
            " [0.25       0.28133916]\n",
            " [0.35       0.29299982]\n",
            " [0.55       0.93731966]\n",
            " [0.2        0.78035677]\n",
            " [0.15       0.70071308]\n",
            " [0.5        0.16297607]\n",
            " [0.6        0.25817399]\n",
            " [0.35       0.26393719]\n",
            " [0.4        0.23449199]\n",
            " [0.95       0.26286324]\n",
            " [0.75       0.33544806]\n",
            " [0.1        0.99750149]\n",
            " [0.15       0.73550544]\n",
            " [0.7        0.60234486]\n",
            " [0.25       0.61871602]\n",
            " [0.65       0.19457676]\n",
            " [0.35       0.24657388]\n",
            " [0.25       0.18914406]\n",
            " [0.45       0.40441148]]\n"
          ],
          "name": "stdout"
        }
      ]
    },
    {
      "cell_type": "code",
      "metadata": {
        "colab": {
          "base_uri": "https://localhost:8080/",
          "height": 268
        },
        "id": "KkOZ3WGoz14R",
        "outputId": "2cfa9f5a-0ff0-42e7-e522-5cab1384eabe"
      },
      "source": [
        "kmeans = KMeans(n_clusters=5, init='random', max_iter=300, n_init=10, random_state=0)\n",
        "pred_y = kmeans.fit_predict(vector)\n",
        "plt.scatter(vector[:,0], vector[:,1])\n",
        "plt.scatter(kmeans.cluster_centers_[:, 0], kmeans.cluster_centers_[:, 1], s=300, c='red')\n",
        "plt.show()"
      ],
      "execution_count": 23,
      "outputs": [
        {
          "output_type": "display_data",
          "data": {
            "image/png": "[encoded data removed]",
            "text/plain": [
              "<Figure size 432x288 with 1 Axes>"
            ]
          },
          "metadata": {}
        }
      ]
    },
    {
      "cell_type": "code",
      "metadata": {
        "colab": {
          "base_uri": "https://localhost:8080/"
        },
        "id": "-FEXkzafDDiA",
        "outputId": "36d0283d-3d6a-484d-c5f7-064b547f317d"
      },
      "source": [
        "kmeans = KMeans(n_clusters = 5, init = 'random')\n",
        "kmeans.fit(vector)\n",
        "kmeans.cluster_centers_"
      ],
      "execution_count": 24,
      "outputs": [
        {
          "output_type": "execute_result",
          "data": {
            "text/plain": [
              "array([[0.72222222, 0.24173899],\n",
              "       [0.7       , 0.74335966],\n",
              "       [0.40892857, 0.25598732],\n",
              "       [0.18181818, 0.68393289],\n",
              "       [0.14761905, 0.23984652]])"
            ]
          },
          "metadata": {},
          "execution_count": 24
        }
      ]
    },
    {
      "cell_type": "code",
      "metadata": {
        "colab": {
          "base_uri": "https://localhost:8080/"
        },
        "id": "yg216Y2NKwOh",
        "outputId": "4850ee5f-1336-45db-e226-6eb0127af339"
      },
      "source": [
        "#calcula a distância de cada ponto para cada um dos centroides dos clusters\n",
        "distance = kmeans.fit_transform(vector)\n",
        "distance\n"
      ],
      "execution_count": 25,
      "outputs": [
        {
          "output_type": "execute_result",
          "data": {
            "text/plain": [
              "array([[0.62473805, 0.32487521, 0.13067793, 0.52897162, 0.23319491],\n",
              "       [0.63991135, 0.52879908, 0.21032405, 0.36268745, 0.09412516],\n",
              "       [0.52453252, 0.50601438, 0.30275197, 0.26274259, 0.04108772],\n",
              "       [0.47373494, 0.72674515, 0.60244885, 0.04050226, 0.34200006],\n",
              "       [0.22485824, 0.40356685, 0.7302083 , 0.64801184, 0.60974172],\n",
              "       [0.7461194 , 0.56272045, 0.15358844, 0.4705107 , 0.20572367],\n",
              "       [0.77186254, 0.38430323, 0.1281978 , 0.66836613, 0.36512042],\n",
              "       [0.74580458, 0.51381281, 0.08695269, 0.51314171, 0.22576353],\n",
              "       [0.58392548, 0.33190099, 0.15718074, 0.48075409, 0.1894537 ],\n",
              "       [0.72498789, 0.36300793, 0.10219191, 0.62023652, 0.31773279],\n",
              "       [0.67077356, 0.46248328, 0.10324682, 0.46063442, 0.16164038],\n",
              "       [0.60447625, 0.48711187, 0.20280262, 0.36064625, 0.06577162],\n",
              "       [0.68355809, 0.5790601 , 0.23034927, 0.3720477 , 0.13923798],\n",
              "       [0.538888  , 0.5688598 , 0.35344975, 0.21079875, 0.10097313],\n",
              "       [0.81504118, 0.46151838, 0.09763552, 0.6609163 , 0.35921522],\n",
              "       [0.41330842, 0.60764527, 0.50557477, 0.09657703, 0.24446592],\n",
              "       [0.12179338, 0.62251457, 0.75037964, 0.3993565 , 0.52791771],\n",
              "       [0.27060728, 0.70296019, 0.73775757, 0.28115767, 0.48832911],\n",
              "       [0.4660545 , 0.68357013, 0.55238367, 0.0198011 , 0.29161976],\n",
              "       [0.46592824, 0.3109635 , 0.27253302, 0.41283241, 0.17651352],\n",
              "       [0.4953835 , 0.14896232, 0.32803013, 0.56667736, 0.33552996],\n",
              "       [0.6910235 , 0.19496596, 0.31589668, 0.73354704, 0.45787875],\n",
              "       [0.29160104, 0.82501117, 1.01443351, 0.63789715, 0.7964876 ],\n",
              "       [0.65146372, 0.29482942, 0.15099767, 0.58565093, 0.29193375],\n",
              "       [0.8045649 , 0.59326644, 0.1578461 , 0.52700551, 0.2662519 ],\n",
              "       [0.74303246, 0.32631495, 0.1752807 , 0.68066747, 0.38155537],\n",
              "       [0.47440421, 0.45643735, 0.31148186, 0.27677   , 0.07156278],\n",
              "       [0.54144341, 0.52278225, 0.30241697, 0.26097054, 0.04604169],\n",
              "       [0.12579273, 0.41838713, 0.6248144 , 0.46284589, 0.45672811],\n",
              "       [0.77109978, 0.49902332, 0.05397408, 0.56172683, 0.26824007],\n",
              "       [0.47114993, 0.22454225, 0.2954839 , 0.49231383, 0.26085298],\n",
              "       [0.33164113, 0.22679971, 0.45797692, 0.50692109, 0.36612867],\n",
              "       [0.82193724, 0.47308752, 0.09815733, 0.66065682, 0.35989863],\n",
              "       [0.52960069, 0.56042932, 0.35280345, 0.21060945, 0.09700352],\n",
              "       [0.74582219, 0.33223469, 0.16995335, 0.67913959, 0.37941252],\n",
              "       [0.5512521 , 0.77752635, 0.60858593, 0.07878455, 0.35623385],\n",
              "       [0.40705348, 0.31703053, 0.33094473, 0.38800324, 0.19813586],\n",
              "       [0.44114569, 0.35687061, 0.29972752, 0.35906096, 0.14581287],\n",
              "       [0.65630819, 0.30473978, 0.14103232, 0.58284557, 0.2874663 ],\n",
              "       [0.58581448, 0.56685039, 0.30739805, 0.26319934, 0.08241507],\n",
              "       [0.60429067, 0.42990974, 0.15545059, 0.41354257, 0.10990251],\n",
              "       [0.44837446, 0.28607504, 0.29357509, 0.42831675, 0.20517328],\n",
              "       [0.65921934, 0.21632089, 0.24844154, 0.66455695, 0.38377288],\n",
              "       [0.73464265, 0.59388209, 0.20552691, 0.42763153, 0.18867837],\n",
              "       [0.90647008, 0.68467261, 0.23985834, 0.60273821, 0.36410646],\n",
              "       [0.73391096, 0.34245358, 0.76639598, 1.02109332, 0.82606573],\n",
              "       [0.45136818, 0.4337419 , 0.31950329, 0.2875986 , 0.0962516 ],\n",
              "       [0.48571006, 0.46759891, 0.30847964, 0.27245992, 0.060848  ],\n",
              "       [0.64485949, 0.85488989, 0.64453066, 0.17046978, 0.40771264],\n",
              "       [0.66590789, 0.79484281, 0.54007871, 0.18972373, 0.32260471],\n",
              "       [0.49110944, 0.34528053, 0.24753614, 0.39491058, 0.1394559 ],\n",
              "       [0.36113064, 0.52679029, 0.46899486, 0.18013497, 0.21927713],\n",
              "       [0.88650581, 0.52776832, 0.15630333, 0.71136817, 0.4144646 ],\n",
              "       [0.46243429, 0.55086121, 0.40384381, 0.16906171, 0.14224079],\n",
              "       [0.69405226, 0.71297709, 0.40223232, 0.27414434, 0.22898517],\n",
              "       [0.65895771, 0.63965246, 0.33181702, 0.2861491 , 0.15819729],\n",
              "       [0.75487222, 0.65924267, 0.27989183, 0.40077727, 0.21761411],\n",
              "       [0.95592303, 0.6737013 , 0.23757539, 0.68968042, 0.42777892],\n",
              "       [0.70743591, 0.51228253, 0.12054762, 0.46281692, 0.17782869],\n",
              "       [0.63293901, 0.40832642, 0.11046945, 0.46449076, 0.1609379 ],\n",
              "       [0.55372614, 0.42557466, 0.20924465, 0.36764723, 0.06958808],\n",
              "       [0.2897895 , 0.44694822, 0.80521997, 0.73372164, 0.69578366],\n",
              "       [0.52703697, 0.0981231 , 0.54304244, 0.75707379, 0.56445944],\n",
              "       [0.57143624, 0.03597182, 0.46087271, 0.73758277, 0.51461151],\n",
              "       [0.58428169, 0.61043892, 0.36066799, 0.21855726, 0.13017334],\n",
              "       [0.46175247, 0.59678026, 0.45275205, 0.1165618 , 0.19108394],\n",
              "       [0.57561083, 0.4524174 , 0.20380974, 0.36310724, 0.0594624 ],\n",
              "       [0.56872514, 0.49960027, 0.25243775, 0.31088221, 0.02327593],\n",
              "       [0.49654728, 0.87601538, 0.80271101, 0.24295959, 0.54111512],\n",
              "       [0.36933294, 0.66653751, 0.60992005, 0.12066807, 0.35020527],\n",
              "       [0.68739213, 0.3240671 , 0.75914994, 0.98751531, 0.8032933 ],\n",
              "       [0.57231446, 0.06059806, 0.49566464, 0.76065255, 0.54496021],\n",
              "       [0.10357036, 0.52456554, 0.66070399, 0.38110097, 0.4524225 ],\n",
              "       [0.47902275, 0.09435041, 0.39245886, 0.60829657, 0.39601818],\n",
              "       [0.51408389, 0.6772471 , 0.50441647, 0.06627311, 0.24877036],\n",
              "       [0.58898208, 0.46858086, 0.20249273, 0.36148428, 0.0596757 ],\n",
              "       [0.69784395, 0.49946446, 0.11424797, 0.46173352, 0.1724132 ],\n",
              "       [0.40401937, 0.38736766, 0.34426133, 0.31845225, 0.15400192]])"
            ]
          },
          "metadata": {},
          "execution_count": 25
        }
      ]
    },
    {
      "cell_type": "code",
      "metadata": {
        "colab": {
          "base_uri": "https://localhost:8080/"
        },
        "id": "GMoo5HWoNrnU",
        "outputId": "9a05f334-7589-4f2e-b2f6-f9615f8b684c"
      },
      "source": [
        "labels = kmeans.labels_\n",
        "labels"
      ],
      "execution_count": 26,
      "outputs": [
        {
          "output_type": "execute_result",
          "data": {
            "text/plain": [
              "array([2, 4, 4, 3, 0, 2, 2, 2, 2, 2, 2, 4, 4, 4, 2, 3, 0, 0, 3, 4, 1, 1,\n",
              "       0, 2, 2, 2, 4, 4, 0, 2, 1, 1, 2, 4, 2, 3, 4, 4, 2, 4, 4, 4, 1, 4,\n",
              "       2, 1, 4, 4, 3, 3, 4, 3, 2, 4, 4, 4, 4, 2, 2, 2, 4, 0, 1, 1, 4, 3,\n",
              "       4, 4, 3, 3, 1, 1, 0, 1, 3, 4, 2, 4], dtype=int32)"
            ]
          },
          "metadata": {},
          "execution_count": 26
        }
      ]
    },
    {
      "cell_type": "code",
      "metadata": {
        "colab": {
          "base_uri": "https://localhost:8080/",
          "height": 419
        },
        "id": "t-mzzuJ1LY5J",
        "outputId": "939bfa08-cbda-46ef-ae81-ac9cf9d8669b"
      },
      "source": [
        "df_distancia_cluster = pd.DataFrame(distance)\n",
        "df_distancia_cluster\n"
      ],
      "execution_count": 27,
      "outputs": [
        {
          "output_type": "execute_result",
          "data": {
            "text/html": [
              "<div>\n",
              "<style scoped>\n",
              "    .dataframe tbody tr th:only-of-type {\n",
              "        vertical-align: middle;\n",
              "    }\n",
              "\n",
              "    .dataframe tbody tr th {\n",
              "        vertical-align: top;\n",
              "    }\n",
              "\n",
              "    .dataframe thead th {\n",
              "        text-align: right;\n",
              "    }\n",
              "</style>\n",
              "<table border=\"1\" class=\"dataframe\">\n",
              "  <thead>\n",
              "    <tr style=\"text-align: right;\">\n",
              "      <th></th>\n",
              "      <th>0</th>\n",
              "      <th>1</th>\n",
              "      <th>2</th>\n",
              "      <th>3</th>\n",
              "      <th>4</th>\n",
              "    </tr>\n",
              "  </thead>\n",
              "  <tbody>\n",
              "    <tr>\n",
              "      <th>0</th>\n",
              "      <td>0.624738</td>\n",
              "      <td>0.324875</td>\n",
              "      <td>0.130678</td>\n",
              "      <td>0.528972</td>\n",
              "      <td>0.233195</td>\n",
              "    </tr>\n",
              "    <tr>\n",
              "      <th>1</th>\n",
              "      <td>0.639911</td>\n",
              "      <td>0.528799</td>\n",
              "      <td>0.210324</td>\n",
              "      <td>0.362687</td>\n",
              "      <td>0.094125</td>\n",
              "    </tr>\n",
              "    <tr>\n",
              "      <th>2</th>\n",
              "      <td>0.524533</td>\n",
              "      <td>0.506014</td>\n",
              "      <td>0.302752</td>\n",
              "      <td>0.262743</td>\n",
              "      <td>0.041088</td>\n",
              "    </tr>\n",
              "    <tr>\n",
              "      <th>3</th>\n",
              "      <td>0.473735</td>\n",
              "      <td>0.726745</td>\n",
              "      <td>0.602449</td>\n",
              "      <td>0.040502</td>\n",
              "      <td>0.342000</td>\n",
              "    </tr>\n",
              "    <tr>\n",
              "      <th>4</th>\n",
              "      <td>0.224858</td>\n",
              "      <td>0.403567</td>\n",
              "      <td>0.730208</td>\n",
              "      <td>0.648012</td>\n",
              "      <td>0.609742</td>\n",
              "    </tr>\n",
              "    <tr>\n",
              "      <th>...</th>\n",
              "      <td>...</td>\n",
              "      <td>...</td>\n",
              "      <td>...</td>\n",
              "      <td>...</td>\n",
              "      <td>...</td>\n",
              "    </tr>\n",
              "    <tr>\n",
              "      <th>73</th>\n",
              "      <td>0.479023</td>\n",
              "      <td>0.094350</td>\n",
              "      <td>0.392459</td>\n",
              "      <td>0.608297</td>\n",
              "      <td>0.396018</td>\n",
              "    </tr>\n",
              "    <tr>\n",
              "      <th>74</th>\n",
              "      <td>0.514084</td>\n",
              "      <td>0.677247</td>\n",
              "      <td>0.504416</td>\n",
              "      <td>0.066273</td>\n",
              "      <td>0.248770</td>\n",
              "    </tr>\n",
              "    <tr>\n",
              "      <th>75</th>\n",
              "      <td>0.588982</td>\n",
              "      <td>0.468581</td>\n",
              "      <td>0.202493</td>\n",
              "      <td>0.361484</td>\n",
              "      <td>0.059676</td>\n",
              "    </tr>\n",
              "    <tr>\n",
              "      <th>76</th>\n",
              "      <td>0.697844</td>\n",
              "      <td>0.499464</td>\n",
              "      <td>0.114248</td>\n",
              "      <td>0.461734</td>\n",
              "      <td>0.172413</td>\n",
              "    </tr>\n",
              "    <tr>\n",
              "      <th>77</th>\n",
              "      <td>0.404019</td>\n",
              "      <td>0.387368</td>\n",
              "      <td>0.344261</td>\n",
              "      <td>0.318452</td>\n",
              "      <td>0.154002</td>\n",
              "    </tr>\n",
              "  </tbody>\n",
              "</table>\n",
              "<p>78 rows × 5 columns</p>\n",
              "</div>"
            ],
            "text/plain": [
              "           0         1         2         3         4\n",
              "0   0.624738  0.324875  0.130678  0.528972  0.233195\n",
              "1   0.639911  0.528799  0.210324  0.362687  0.094125\n",
              "2   0.524533  0.506014  0.302752  0.262743  0.041088\n",
              "3   0.473735  0.726745  0.602449  0.040502  0.342000\n",
              "4   0.224858  0.403567  0.730208  0.648012  0.609742\n",
              "..       ...       ...       ...       ...       ...\n",
              "73  0.479023  0.094350  0.392459  0.608297  0.396018\n",
              "74  0.514084  0.677247  0.504416  0.066273  0.248770\n",
              "75  0.588982  0.468581  0.202493  0.361484  0.059676\n",
              "76  0.697844  0.499464  0.114248  0.461734  0.172413\n",
              "77  0.404019  0.387368  0.344261  0.318452  0.154002\n",
              "\n",
              "[78 rows x 5 columns]"
            ]
          },
          "metadata": {},
          "execution_count": 27
        }
      ]
    },
    {
      "cell_type": "code",
      "metadata": {
        "id": "1jdLhGf5MOfl"
      },
      "source": [
        "\n",
        "df_distancia_cluster=df_distancia_cluster.assign(municipios)"
      ],
      "execution_count": null,
      "outputs": []
    }
  ]
}